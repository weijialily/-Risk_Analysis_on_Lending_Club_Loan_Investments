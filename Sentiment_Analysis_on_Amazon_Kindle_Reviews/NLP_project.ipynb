{
 "cells": [
  {
   "cell_type": "code",
   "execution_count": 1,
   "metadata": {},
   "outputs": [
    {
     "name": "stderr",
     "output_type": "stream",
     "text": [
      "/Users/jiawei/anaconda3/lib/python3.6/site-packages/h5py/__init__.py:36: FutureWarning: Conversion of the second argument of issubdtype from `float` to `np.floating` is deprecated. In future, it will be treated as `np.float64 == np.dtype(float).type`.\n",
      "  from ._conv import register_converters as _register_converters\n"
     ]
    }
   ],
   "source": [
    "%matplotlib inline\n",
    "\n",
    "import time\n",
    "import functools\n",
    "import pandas as pd\n",
    "import numpy as np\n",
    "import string\n",
    "import html\n",
    "import h5py\n",
    "import matplotlib.pyplot as plt\n",
    "\n",
    "import scipy.sparse as sparse\n",
    "\n",
    "import my_utils\n",
    "\n",
    "import nltk\n",
    "from nltk import word_tokenize\n",
    "from nltk import WordNetLemmatizer\n",
    "from nltk import FreqDist\n",
    "from nltk.corpus import stopwords as sw\n",
    "\n",
    "from sklearn.feature_extraction.text import TfidfTransformer\n",
    "from sklearn.feature_extraction.text import CountVectorizer\n",
    "from sklearn.feature_extraction.text import TfidfVectorizer\n",
    "from sklearn.model_selection import train_test_split\n",
    "from sklearn.metrics import confusion_matrix\n",
    "from sklearn.metrics import accuracy_score\n",
    "from sklearn.metrics import recall_score\n",
    "from sklearn.metrics import classification_report\n",
    "from sklearn import metrics\n",
    "from nltk.corpus import stopwords\n",
    "from sklearn.naive_bayes import MultinomialNB\n",
    "from sklearn.naive_bayes import BernoulliNB\n",
    "from sklearn import linear_model\n",
    "from sklearn.tree import DecisionTreeClassifier\n",
    "from sklearn.decomposition import TruncatedSVD\n",
    "from sklearn.model_selection import train_test_split"
   ]
  },
  {
   "cell_type": "markdown",
   "metadata": {},
   "source": [
    "## Pipeline"
   ]
  },
  {
   "cell_type": "markdown",
   "metadata": {},
   "source": [
    "![Pipeline](pipeline.png)"
   ]
  },
  {
   "cell_type": "markdown",
   "metadata": {},
   "source": [
    "## 1. Load dataset"
   ]
  },
  {
   "cell_type": "code",
   "execution_count": 2,
   "metadata": {},
   "outputs": [
    {
     "data": {
      "text/plain": [
       "pandas.core.frame.DataFrame"
      ]
     },
     "execution_count": 2,
     "metadata": {},
     "output_type": "execute_result"
    }
   ],
   "source": [
    "# Load csv file into DataFrame\n",
    "kindle_data = pd.read_csv('sampled_data.csv')\n",
    "type(kindle_data)"
   ]
  },
  {
   "cell_type": "code",
   "execution_count": 3,
   "metadata": {},
   "outputs": [
    {
     "name": "stdout",
     "output_type": "stream",
     "text": [
      "overall    : pos\n",
      "reviewText : This book ended even before it started and it made me want for more. Oh oh such a teaser. I want the book now please. So exciting.\n"
     ]
    }
   ],
   "source": [
    "# Print first row\n",
    "# Format: data_frame.col_name[row]\n",
    "print(\"overall    :\", kindle_data.overall[0])\n",
    "print(\"reviewText :\", kindle_data.reviewText[0])"
   ]
  },
  {
   "cell_type": "code",
   "execution_count": 4,
   "metadata": {},
   "outputs": [
    {
     "data": {
      "text/plain": [
       "126871"
      ]
     },
     "execution_count": 4,
     "metadata": {},
     "output_type": "execute_result"
    }
   ],
   "source": [
    "# Length of kindle_data\n",
    "len(kindle_data)"
   ]
  },
  {
   "cell_type": "code",
   "execution_count": 5,
   "metadata": {},
   "outputs": [
    {
     "data": {
      "text/html": [
       "<div>\n",
       "<style scoped>\n",
       "    .dataframe tbody tr th:only-of-type {\n",
       "        vertical-align: middle;\n",
       "    }\n",
       "\n",
       "    .dataframe tbody tr th {\n",
       "        vertical-align: top;\n",
       "    }\n",
       "\n",
       "    .dataframe thead th {\n",
       "        text-align: right;\n",
       "    }\n",
       "</style>\n",
       "<table border=\"1\" class=\"dataframe\">\n",
       "  <thead>\n",
       "    <tr style=\"text-align: right;\">\n",
       "      <th></th>\n",
       "      <th>overall</th>\n",
       "      <th>reviewText</th>\n",
       "    </tr>\n",
       "  </thead>\n",
       "  <tbody>\n",
       "    <tr>\n",
       "      <th>0</th>\n",
       "      <td>pos</td>\n",
       "      <td>This book ended even before it started and it ...</td>\n",
       "    </tr>\n",
       "    <tr>\n",
       "      <th>1</th>\n",
       "      <td>pos</td>\n",
       "      <td>This is a great read with so much emotion you ...</td>\n",
       "    </tr>\n",
       "    <tr>\n",
       "      <th>2</th>\n",
       "      <td>pos</td>\n",
       "      <td>It&amp;#8217;s Christmas Eve and miraculously, Sal...</td>\n",
       "    </tr>\n",
       "    <tr>\n",
       "      <th>3</th>\n",
       "      <td>pos</td>\n",
       "      <td>I enjoyed meeting the character of Cassandra. ...</td>\n",
       "    </tr>\n",
       "    <tr>\n",
       "      <th>4</th>\n",
       "      <td>pos</td>\n",
       "      <td>Can I be the next Hunter wife?  Again, I have ...</td>\n",
       "    </tr>\n",
       "  </tbody>\n",
       "</table>\n",
       "</div>"
      ],
      "text/plain": [
       "  overall                                         reviewText\n",
       "0     pos  This book ended even before it started and it ...\n",
       "1     pos  This is a great read with so much emotion you ...\n",
       "2     pos  It&#8217;s Christmas Eve and miraculously, Sal...\n",
       "3     pos  I enjoyed meeting the character of Cassandra. ...\n",
       "4     pos  Can I be the next Hunter wife?  Again, I have ..."
      ]
     },
     "execution_count": 5,
     "metadata": {},
     "output_type": "execute_result"
    }
   ],
   "source": [
    "# Get a sample (head) of the data frame\n",
    "kindle_data.head()"
   ]
  },
  {
   "cell_type": "code",
   "execution_count": 6,
   "metadata": {
    "scrolled": false
   },
   "outputs": [
    {
     "data": {
      "text/plain": [
       "pos    64559\n",
       "neg    62312\n",
       "Name: overall, dtype: int64"
      ]
     },
     "execution_count": 6,
     "metadata": {},
     "output_type": "execute_result"
    }
   ],
   "source": [
    "# Statics on tags\n",
    "kindle_data.overall.value_counts()"
   ]
  },
  {
   "cell_type": "markdown",
   "metadata": {},
   "source": [
    "This is a balaned binary classification problem, since there are almost the same number of postive and negative reviews. "
   ]
  },
  {
   "cell_type": "code",
   "execution_count": 7,
   "metadata": {},
   "outputs": [],
   "source": [
    "# Split complete data set into [pos, neg]\n",
    "def splitPosNeg(data_):\n",
    "    neg = data_.loc[data_.overall=='neg']\n",
    "    pos = data_.loc[data_.overall=='pos']\n",
    "    return [pos,neg]\n",
    "\n",
    "[pos,neg] = splitPosNeg(kindle_data)"
   ]
  },
  {
   "cell_type": "code",
   "execution_count": 8,
   "metadata": {},
   "outputs": [
    {
     "name": "stdout",
     "output_type": "stream",
     "text": [
      "<class 'pandas.core.frame.DataFrame'>\n",
      "pos: 64559 , neg: 62312\n"
     ]
    }
   ],
   "source": [
    "print(type(pos))\n",
    "print(\"pos:\", len(pos), \", neg:\", len(neg))"
   ]
  },
  {
   "cell_type": "markdown",
   "metadata": {},
   "source": [
    "## 2. Preprocessing"
   ]
  },
  {
   "cell_type": "code",
   "execution_count": 9,
   "metadata": {},
   "outputs": [],
   "source": [
    "stopwords = sw.words('english')\n",
    "stopwords = stopwords + ['not_' + w for w in stopwords]\n",
    "lemmatizer = WordNetLemmatizer()"
   ]
  },
  {
   "cell_type": "code",
   "execution_count": 10,
   "metadata": {
    "scrolled": false
   },
   "outputs": [
    {
     "name": "stdout",
     "output_type": "stream",
     "text": [
      "['i', 'me', 'my', 'myself', 'we', 'our', 'ours', 'ourselves', 'you', 'your', 'yours', 'yourself', 'yourselves', 'he', 'him', 'his', 'himself', 'she', 'her', 'hers', 'herself', 'it', 'its', 'itself', 'they', 'them', 'their', 'theirs', 'themselves', 'what', 'which', 'who', 'whom', 'this', 'that', 'these', 'those', 'am', 'is', 'are', 'was', 'were', 'be', 'been', 'being', 'have', 'has', 'had', 'having', 'do', 'does', 'did', 'doing', 'a', 'an', 'the', 'and', 'but', 'if', 'or', 'because', 'as', 'until', 'while', 'of', 'at', 'by', 'for', 'with', 'about', 'against', 'between', 'into', 'through', 'during', 'before', 'after', 'above', 'below', 'to', 'from', 'up', 'down', 'in', 'out', 'on', 'off', 'over', 'under', 'again', 'further', 'then', 'once', 'here', 'there', 'when', 'where', 'why', 'how', 'all', 'any', 'both', 'each', 'few', 'more', 'most', 'other', 'some', 'such', 'no', 'nor', 'not', 'only', 'own', 'same', 'so', 'than', 'too', 'very', 's', 't', 'can', 'will', 'just', 'don', 'should', 'now', 'd', 'll', 'm', 'o', 're', 've', 'y', 'ain', 'aren', 'couldn', 'didn', 'doesn', 'hadn', 'hasn', 'haven', 'isn', 'ma', 'mightn', 'mustn', 'needn', 'shan', 'shouldn', 'wasn', 'weren', 'won', 'wouldn', 'not_i', 'not_me', 'not_my', 'not_myself', 'not_we', 'not_our', 'not_ours', 'not_ourselves', 'not_you', 'not_your', 'not_yours', 'not_yourself', 'not_yourselves', 'not_he', 'not_him', 'not_his', 'not_himself', 'not_she', 'not_her', 'not_hers', 'not_herself', 'not_it', 'not_its', 'not_itself', 'not_they', 'not_them', 'not_their', 'not_theirs', 'not_themselves', 'not_what', 'not_which', 'not_who', 'not_whom', 'not_this', 'not_that', 'not_these', 'not_those', 'not_am', 'not_is', 'not_are', 'not_was', 'not_were', 'not_be', 'not_been', 'not_being', 'not_have', 'not_has', 'not_had', 'not_having', 'not_do', 'not_does', 'not_did', 'not_doing', 'not_a', 'not_an', 'not_the', 'not_and', 'not_but', 'not_if', 'not_or', 'not_because', 'not_as', 'not_until', 'not_while', 'not_of', 'not_at', 'not_by', 'not_for', 'not_with', 'not_about', 'not_against', 'not_between', 'not_into', 'not_through', 'not_during', 'not_before', 'not_after', 'not_above', 'not_below', 'not_to', 'not_from', 'not_up', 'not_down', 'not_in', 'not_out', 'not_on', 'not_off', 'not_over', 'not_under', 'not_again', 'not_further', 'not_then', 'not_once', 'not_here', 'not_there', 'not_when', 'not_where', 'not_why', 'not_how', 'not_all', 'not_any', 'not_both', 'not_each', 'not_few', 'not_more', 'not_most', 'not_other', 'not_some', 'not_such', 'not_no', 'not_nor', 'not_not', 'not_only', 'not_own', 'not_same', 'not_so', 'not_than', 'not_too', 'not_very', 'not_s', 'not_t', 'not_can', 'not_will', 'not_just', 'not_don', 'not_should', 'not_now', 'not_d', 'not_ll', 'not_m', 'not_o', 'not_re', 'not_ve', 'not_y', 'not_ain', 'not_aren', 'not_couldn', 'not_didn', 'not_doesn', 'not_hadn', 'not_hasn', 'not_haven', 'not_isn', 'not_ma', 'not_mightn', 'not_mustn', 'not_needn', 'not_shan', 'not_shouldn', 'not_wasn', 'not_weren', 'not_won', 'not_wouldn']\n"
     ]
    }
   ],
   "source": [
    "print(stopwords)"
   ]
  },
  {
   "cell_type": "code",
   "execution_count": 11,
   "metadata": {},
   "outputs": [],
   "source": [
    "# Translation for punctuations\n",
    "translation = str.maketrans(string.punctuation,' '*len(string.punctuation))"
   ]
  },
  {
   "cell_type": "code",
   "execution_count": 12,
   "metadata": {
    "scrolled": false
   },
   "outputs": [
    {
     "data": {
      "text/plain": [
       "'!\"#$%&\\'()*+,-./:;<=>?@[\\\\]^_`{|}~'"
      ]
     },
     "execution_count": 12,
     "metadata": {},
     "output_type": "execute_result"
    }
   ],
   "source": [
    "string.punctuation"
   ]
  },
  {
   "cell_type": "code",
   "execution_count": 13,
   "metadata": {},
   "outputs": [
    {
     "data": {
      "text/plain": [
       "'dedef'"
      ]
     },
     "execution_count": 13,
     "metadata": {},
     "output_type": "execute_result"
    }
   ],
   "source": [
    "# Example on how maketrans works\n",
    "transtbl = str.maketrans('abc','def')\n",
    "'ababc'.translate(transtbl)"
   ]
  },
  {
   "cell_type": "code",
   "execution_count": 14,
   "metadata": {},
   "outputs": [],
   "source": [
    "def preprocessing(line: str) -> str:\n",
    "    line = html.unescape(str(line))\n",
    "    line = str(line).replace(\"can't\", \"cann't\")\n",
    "    line = word_tokenize(line.lower())\n",
    "    \n",
    "    tokens = []\n",
    "    negated = False\n",
    "    for t in line:\n",
    "        if t in ['not', \"n't\", 'no']:\n",
    "            negated = not negated\n",
    "        elif t in string.punctuation or not t.isalpha():\n",
    "            negated = False\n",
    "        else:\n",
    "            tokens.append('not_' + t if negated else t)\n",
    "    \n",
    "    tokens = [lemmatizer.lemmatize(t, 'v') for t in tokens if t not in stopwords]\n",
    "        \n",
    "    return ' '.join(tokens)"
   ]
  },
  {
   "cell_type": "code",
   "execution_count": 15,
   "metadata": {
    "scrolled": false
   },
   "outputs": [
    {
     "data": {
      "text/plain": [
       "'not_beleive not_would really freak'"
      ]
     },
     "execution_count": 15,
     "metadata": {},
     "output_type": "execute_result"
    }
   ],
   "source": [
    "# Examples of proprocessing results\n",
    "preprocessing(\"I can't beleive he wouldn't do that... He's really freaking me out.\")"
   ]
  },
  {
   "cell_type": "code",
   "execution_count": 16,
   "metadata": {},
   "outputs": [
    {
     "data": {
      "text/plain": [
       "'buy yesterday really love'"
      ]
     },
     "execution_count": 16,
     "metadata": {},
     "output_type": "execute_result"
    }
   ],
   "source": [
    "test_str = \"I bought it yesterday and I really love it!\"\n",
    "preprocessing(test_str)"
   ]
  },
  {
   "cell_type": "code",
   "execution_count": 17,
   "metadata": {
    "scrolled": true
   },
   "outputs": [
    {
     "name": "stdout",
     "output_type": "stream",
     "text": [
      "Preprocessing pos data:  |==================================================| 100% "
     ]
    }
   ],
   "source": [
    "pos_data = []\n",
    "n_pos = len(pos)\n",
    "for i, p in enumerate(pos['reviewText']):\n",
    "    pos_data.append(preprocessing(p))\n",
    "    my_utils.print_progress(bar_length=50, decimals=0, iteration=i + 1, total=n_pos, prefix='Preprocessing pos data: ')"
   ]
  },
  {
   "cell_type": "code",
   "execution_count": 18,
   "metadata": {},
   "outputs": [
    {
     "name": "stdout",
     "output_type": "stream",
     "text": [
      "Preprocessing neg data:  |==================================================| 100% \n"
     ]
    }
   ],
   "source": [
    "neg_data = []\n",
    "n_neg = len(neg)\n",
    "for i, n in enumerate(neg['reviewText']):\n",
    "    neg_data.append(preprocessing(n))\n",
    "    my_utils.print_progress(bar_length=50, decimals=0, iteration=i+1, total=n_neg, prefix='Preprocessing neg data: ')"
   ]
  },
  {
   "cell_type": "code",
   "execution_count": 19,
   "metadata": {},
   "outputs": [],
   "source": [
    "data = pos_data + neg_data\n",
    "labels = np.concatenate((pos['overall'].values,neg['overall'].values))"
   ]
  },
  {
   "cell_type": "markdown",
   "metadata": {},
   "source": [
    "### Split Training Data & Test Data"
   ]
  },
  {
   "cell_type": "code",
   "execution_count": 20,
   "metadata": {},
   "outputs": [],
   "source": [
    "# Split data into training set and testing set (80:20)\n",
    "# stratify: make sure pos/neg remains the same in training set and testing set\n",
    "train_data, test_data, train_y, test_y = \\\n",
    "train_test_split(\n",
    "    data, \n",
    "    labels, \n",
    "    test_size=0.2, \n",
    "    stratify=labels, \n",
    "    random_state=1234\n",
    ")"
   ]
  },
  {
   "cell_type": "code",
   "execution_count": 21,
   "metadata": {
    "scrolled": true
   },
   "outputs": [
    {
     "name": "stdout",
     "output_type": "stream",
     "text": [
      "training size =  101496 , testing size =  25375\n"
     ]
    }
   ],
   "source": [
    "print(\"training size = \", len(train_data), \", testing size = \", len(test_data))"
   ]
  },
  {
   "cell_type": "code",
   "execution_count": 22,
   "metadata": {},
   "outputs": [],
   "source": [
    "# Push all tokens and compute frequency of words\n",
    "tokens = [word for line in train_data \\\n",
    "               for word in nltk.word_tokenize(line)]\n",
    "\n",
    "word_features = nltk.FreqDist(tokens)"
   ]
  },
  {
   "cell_type": "code",
   "execution_count": 23,
   "metadata": {},
   "outputs": [
    {
     "name": "stdout",
     "output_type": "stream",
     "text": [
      "<FreqDist with 96226 samples and 3975113 outcomes>\n"
     ]
    }
   ],
   "source": [
    "print(word_features)"
   ]
  },
  {
   "cell_type": "code",
   "execution_count": 24,
   "metadata": {
    "scrolled": true
   },
   "outputs": [
    {
     "data": {
      "text/plain": [
       "[('book', 109061),\n",
       " ('read', 64212),\n",
       " ('story', 47846),\n",
       " ('like', 33733),\n",
       " ('love', 33064),\n",
       " ('one', 29956),\n",
       " ('get', 28632),\n",
       " ('character', 27374),\n",
       " ('would', 26876),\n",
       " ('good', 25987)]"
      ]
     },
     "execution_count": 24,
     "metadata": {},
     "output_type": "execute_result"
    }
   ],
   "source": [
    "word_features.most_common(10)"
   ]
  },
  {
   "cell_type": "markdown",
   "metadata": {},
   "source": [
    "### Find best \\# of features\n",
    "\n",
    "Find best number of top words as features to use."
   ]
  },
  {
   "cell_type": "code",
   "execution_count": 25,
   "metadata": {},
   "outputs": [],
   "source": [
    "def train_with_n_topwords(n: int, tfidf=False) -> tuple:\n",
    "    topwords = [fpair[0] for fpair in list(word_features.most_common(n))]\n",
    "    \n",
    "    if tfidf:\n",
    "        vec = TfidfVectorizer()\n",
    "    else:\n",
    "        vec = CountVectorizer()\n",
    "        \n",
    "    vec.fit(topwords)\n",
    "    \n",
    "    # Generate feature vectors\n",
    "    train_X = vec.transform(train_data)\n",
    "    test_X  = vec.transform(test_data)\n",
    "    \n",
    "    # NB\n",
    "    mnb_model = MultinomialNB()\n",
    "    mnb_model.fit(train_X, train_y)\n",
    "    \n",
    "    # Test predict\n",
    "    pred = mnb_model.predict(test_X)\n",
    "    \n",
    "    return accuracy_score(pred, test_y), mnb_model"
   ]
  },
  {
   "cell_type": "code",
   "execution_count": 26,
   "metadata": {
    "scrolled": true
   },
   "outputs": [
    {
     "data": {
      "text/plain": [
       "(0.8284137931034483,\n",
       " MultinomialNB(alpha=1.0, class_prior=None, fit_prior=True))"
      ]
     },
     "execution_count": 26,
     "metadata": {},
     "output_type": "execute_result"
    }
   ],
   "source": [
    "train_with_n_topwords(5000, tfidf=True)"
   ]
  },
  {
   "cell_type": "code",
   "execution_count": 27,
   "metadata": {},
   "outputs": [
    {
     "name": "stdout",
     "output_type": "stream",
     "text": [
      "Train and verify: |==================================================| 100% \n"
     ]
    }
   ],
   "source": [
    "possible_n = [5000 * i for i in range(1, 20)]\n",
    "\n",
    "cnt_accuracies = []\n",
    "tfidf_accuracies = []\n",
    "for i, n in enumerate(possible_n):\n",
    "    cnt_accuracies.append(train_with_n_topwords(n)[0])\n",
    "    my_utils.print_progress(bar_length=50, decimals=0, iteration=2 * i + 1, total=2*len(possible_n), prefix='Train and verify:')\n",
    "    \n",
    "    tfidf_accuracies.append(train_with_n_topwords(n, tfidf=True)[0])\n",
    "    my_utils.print_progress(bar_length=50, decimals=0, iteration=2 * i + 2, total=2*len(possible_n), prefix='Train and verify:')"
   ]
  },
  {
   "cell_type": "code",
   "execution_count": 28,
   "metadata": {},
   "outputs": [
    {
     "data": {
      "text/plain": [
       "<matplotlib.legend.Legend at 0x1a27951ba8>"
      ]
     },
     "execution_count": 28,
     "metadata": {},
     "output_type": "execute_result"
    },
    {
     "data": {
      "image/png": "[encoded data removed]",
      "text/plain": [
       "<matplotlib.figure.Figure at 0x1a0d0fb828>"
      ]
     },
     "metadata": {},
     "output_type": "display_data"
    }
   ],
   "source": [
    "%matplotlib inline\n",
    "plt.plot(possible_n, cnt_accuracies, label='Word Count')\n",
    "plt.plot(possible_n, tfidf_accuracies, label='Tf-idf')\n",
    "plt.legend()"
   ]
  },
  {
   "cell_type": "markdown",
   "metadata": {},
   "source": [
    "From the above figure, the largest accuracy achives when there are 15000 top words for this problem."
   ]
  },
  {
   "cell_type": "code",
   "execution_count": 29,
   "metadata": {},
   "outputs": [],
   "source": [
    "topwords = [fpair[0] for fpair in list(word_features.most_common(15000))]"
   ]
  },
  {
   "cell_type": "markdown",
   "metadata": {},
   "source": [
    "## 3. Feature Extraction"
   ]
  },
  {
   "cell_type": "code",
   "execution_count": 30,
   "metadata": {},
   "outputs": [
    {
     "data": {
      "text/plain": [
       "<1x14981 sparse matrix of type '<class 'numpy.float64'>'\n",
       "\twith 14981 stored elements in Compressed Sparse Row format>"
      ]
     },
     "execution_count": 30,
     "metadata": {},
     "output_type": "execute_result"
    }
   ],
   "source": [
    "tf_vec = TfidfVectorizer()\n",
    "tf_fit = tf_vec.fit_transform([' '.join(topwords)])\n",
    "tf_fit"
   ]
  },
  {
   "cell_type": "code",
   "execution_count": 31,
   "metadata": {},
   "outputs": [],
   "source": [
    "# Extract features from training set\n",
    "# Vocabulary is from topwords\n",
    "train_features = tf_vec.transform(train_data)"
   ]
  },
  {
   "cell_type": "code",
   "execution_count": 32,
   "metadata": {},
   "outputs": [
    {
     "data": {
      "text/plain": [
       "(101496, 14981)"
      ]
     },
     "execution_count": 32,
     "metadata": {},
     "output_type": "execute_result"
    }
   ],
   "source": [
    "# Array[n_train_data * n_features]\n",
    "train_features.shape"
   ]
  },
  {
   "cell_type": "code",
   "execution_count": 33,
   "metadata": {},
   "outputs": [],
   "source": [
    "# Extract features from test set\n",
    "test_features = tf_vec.transform(test_data)"
   ]
  },
  {
   "cell_type": "code",
   "execution_count": 34,
   "metadata": {},
   "outputs": [
    {
     "data": {
      "text/plain": [
       "(101496, 29961)"
      ]
     },
     "execution_count": 34,
     "metadata": {},
     "output_type": "execute_result"
    }
   ],
   "source": [
    "# (Uni+Bi)-Gram\n",
    "bg_tf_vec = TfidfVectorizer(ngram_range=(1,2))\n",
    "bg_tf_vec.fit([' '.join(topwords)])\n",
    "bg_train_features = bg_tf_vec.transform(train_data)\n",
    "\n",
    "bg_train_features.shape\n",
    "\n",
    "# Array[n_train_data * (uni_gram_features + bi_gram_features)]"
   ]
  },
  {
   "cell_type": "code",
   "execution_count": 35,
   "metadata": {},
   "outputs": [],
   "source": [
    "# Extract (uni+bi)-gram test features\n",
    "bg_test_features = bg_tf_vec.transform(test_data)"
   ]
  },
  {
   "cell_type": "markdown",
   "metadata": {},
   "source": [
    "## 4. Models"
   ]
  },
  {
   "cell_type": "markdown",
   "metadata": {},
   "source": [
    "### Multinomial NB\n",
    "\n",
    "The multinomial Naive Bayes classifier is suitable for **classification with discrete features** (e.g., word counts for text classification). The multinomial distribution normally requires integer feature counts. However, in practice, fractional counts such as tf-idf may also work."
   ]
  },
  {
   "cell_type": "code",
   "execution_count": 36,
   "metadata": {},
   "outputs": [],
   "source": [
    "from sklearn.naive_bayes import MultinomialNB"
   ]
  },
  {
   "cell_type": "code",
   "execution_count": 37,
   "metadata": {
    "scrolled": true
   },
   "outputs": [
    {
     "data": {
      "text/plain": [
       "MultinomialNB(alpha=1.0, class_prior=None, fit_prior=True)"
      ]
     },
     "execution_count": 37,
     "metadata": {},
     "output_type": "execute_result"
    }
   ],
   "source": [
    "mnb_model = MultinomialNB()\n",
    "mnb_model"
   ]
  },
  {
   "cell_type": "code",
   "execution_count": 38,
   "metadata": {},
   "outputs": [
    {
     "name": "stdout",
     "output_type": "stream",
     "text": [
      "Multinomial NB model trained in 0.274575 seconds\n"
     ]
    }
   ],
   "source": [
    "# Train Model\n",
    "start = time.time()\n",
    "mnb_model.fit(train_features, train_y)\n",
    "end = time.time()\n",
    "\n",
    "print(\"Multinomial NB model trained in %f seconds\" % (end-start))"
   ]
  },
  {
   "cell_type": "code",
   "execution_count": 39,
   "metadata": {},
   "outputs": [
    {
     "name": "stdout",
     "output_type": "stream",
     "text": [
      "['neg' 'pos' 'neg' ... 'neg' 'pos' 'neg']\n"
     ]
    }
   ],
   "source": [
    "# Predict\n",
    "pred = mnb_model.predict(test_features)\n",
    "print(pred)"
   ]
  },
  {
   "cell_type": "code",
   "execution_count": 40,
   "metadata": {},
   "outputs": [
    {
     "name": "stdout",
     "output_type": "stream",
     "text": [
      "0.8328275862068966\n"
     ]
    }
   ],
   "source": [
    "# Metrics\n",
    "# metrics.accuracy_score(y_true, y_pred)\n",
    "accuracy = accuracy_score(pred,test_y)\n",
    "print(accuracy)"
   ]
  },
  {
   "cell_type": "code",
   "execution_count": 41,
   "metadata": {},
   "outputs": [
    {
     "name": "stdout",
     "output_type": "stream",
     "text": [
      "             precision    recall  f1-score   support\n",
      "\n",
      "        neg       0.85      0.80      0.82     12463\n",
      "        pos       0.82      0.86      0.84     12912\n",
      "\n",
      "avg / total       0.83      0.83      0.83     25375\n",
      "\n"
     ]
    }
   ],
   "source": [
    "# Use keyword arguments to set arguments explicitly\n",
    "print(classification_report(y_true=test_y, y_pred=pred))"
   ]
  },
  {
   "cell_type": "markdown",
   "metadata": {},
   "source": [
    "#### Train & test using Uni-Gram + Bi-Gram features"
   ]
  },
  {
   "cell_type": "code",
   "execution_count": 42,
   "metadata": {},
   "outputs": [
    {
     "name": "stdout",
     "output_type": "stream",
     "text": [
      "['neg' 'pos' 'neg' ... 'neg' 'pos' 'neg']\n"
     ]
    }
   ],
   "source": [
    "# Train & test using (uni+bi)-gram features\n",
    "bg_mnb_model = MultinomialNB()\n",
    "bg_mnb_model.fit(bg_train_features, train_y)\n",
    "bg_pred = bg_mnb_model.predict(bg_test_features)\n",
    "print(bg_pred)"
   ]
  },
  {
   "cell_type": "code",
   "execution_count": 43,
   "metadata": {},
   "outputs": [
    {
     "name": "stdout",
     "output_type": "stream",
     "text": [
      "0.8323940886699508\n"
     ]
    }
   ],
   "source": [
    "# Statistics\n",
    "bg_accuracy = accuracy_score(bg_pred,test_y)\n",
    "print(bg_accuracy)"
   ]
  },
  {
   "cell_type": "code",
   "execution_count": 44,
   "metadata": {
    "scrolled": true
   },
   "outputs": [
    {
     "name": "stdout",
     "output_type": "stream",
     "text": [
      "             precision    recall  f1-score   support\n",
      "\n",
      "        neg       0.85      0.80      0.82     12463\n",
      "        pos       0.82      0.87      0.84     12912\n",
      "\n",
      "avg / total       0.83      0.83      0.83     25375\n",
      "\n"
     ]
    }
   ],
   "source": [
    "print(classification_report(y_true=test_y, y_pred=bg_pred))"
   ]
  },
  {
   "cell_type": "markdown",
   "metadata": {},
   "source": [
    "Uni-Gram or Bi-Gram do not affect the classifcation result here. "
   ]
  },
  {
   "cell_type": "markdown",
   "metadata": {},
   "source": [
    "### Linear SVM"
   ]
  },
  {
   "cell_type": "code",
   "execution_count": 45,
   "metadata": {},
   "outputs": [
    {
     "name": "stdout",
     "output_type": "stream",
     "text": [
      "LinearSVC(C=1.0, class_weight=None, dual=True, fit_intercept=True,\n",
      "     intercept_scaling=1, loss='squared_hinge', max_iter=1000,\n",
      "     multi_class='ovr', penalty='l2', random_state=None, tol=0.0001,\n",
      "     verbose=0)\n",
      "\n",
      "SVC model trained in: 2.09s\n",
      "\n",
      "Accuracy = 0.839527\n",
      "             precision    recall  f1-score   support\n",
      "\n",
      "        neg       0.84      0.83      0.84     12463\n",
      "        pos       0.84      0.85      0.84     12912\n",
      "\n",
      "avg / total       0.84      0.84      0.84     25375\n",
      "\n"
     ]
    }
   ],
   "source": [
    "from sklearn.svm import LinearSVC\n",
    "\n",
    "svc_model = LinearSVC()\n",
    "print(svc_model, end='\\n'*2)\n",
    "\n",
    "start = time.time()\n",
    "svc_model.fit(train_features, train_y)\n",
    "end = time.time()\n",
    "print('SVC model trained in: %.2fs' % (end - start), end='\\n'*2)\n",
    "svc_pred = svc_model.predict(test_features)\n",
    "\n",
    "print('Accuracy = %.6f' % accuracy_score(svc_pred, test_y))\n",
    "print(classification_report(y_pred=svc_pred, y_true=test_y))"
   ]
  },
  {
   "cell_type": "markdown",
   "metadata": {},
   "source": [
    "### Logistic Regression"
   ]
  },
  {
   "cell_type": "code",
   "execution_count": 46,
   "metadata": {},
   "outputs": [
    {
     "name": "stdout",
     "output_type": "stream",
     "text": [
      "LogisticRegression(C=1.0, class_weight=None, dual=False, fit_intercept=True,\n",
      "          intercept_scaling=1, max_iter=100, multi_class='ovr', n_jobs=1,\n",
      "          penalty='l2', random_state=None, solver='liblinear', tol=0.0001,\n",
      "          verbose=0, warm_start=False)\n",
      "\n",
      "Logistic model trained in: 3.05s\n",
      "\n",
      "Accuracy = 0.842207\n",
      "             precision    recall  f1-score   support\n",
      "\n",
      "        neg       0.84      0.83      0.84     12463\n",
      "        pos       0.84      0.85      0.85     12912\n",
      "\n",
      "avg / total       0.84      0.84      0.84     25375\n",
      "\n"
     ]
    }
   ],
   "source": [
    "from sklearn.linear_model import LogisticRegression\n",
    "\n",
    "lr_model = LogisticRegression()\n",
    "print(lr_model, end='\\n'*2)\n",
    "\n",
    "start = time.time()\n",
    "lr_model.fit(train_features, train_y)\n",
    "end = time.time()\n",
    "print('Logistic model trained in: %.2fs' % (end - start), end='\\n'*2)\n",
    "lr_pred = lr_model.predict(test_features)\n",
    "\n",
    "print('Accuracy = %.6f' % accuracy_score(lr_pred, test_y))\n",
    "print(classification_report(y_pred=lr_pred, y_true=test_y))"
   ]
  },
  {
   "cell_type": "markdown",
   "metadata": {},
   "source": [
    "## 5. Save model"
   ]
  },
  {
   "cell_type": "code",
   "execution_count": 52,
   "metadata": {},
   "outputs": [],
   "source": [
    "import pickle\n",
    "\n",
    "# Save vectorizer\n",
    "with open('tf_vec.pkl', 'wb') as pkl_file:\n",
    "    pickle.dump(tf_vec, pkl_file)"
   ]
  }
 ],
 "metadata": {
  "kernelspec": {
   "display_name": "Python 3",
   "language": "python",
   "name": "python3"
  },
  "language_info": {
   "codemirror_mode": {
    "name": "ipython",
    "version": 3
   },
   "file_extension": ".py",
   "mimetype": "text/x-python",
   "name": "python",
   "nbconvert_exporter": "python",
   "pygments_lexer": "ipython3",
   "version": "3.6.4"
  }
 },
 "nbformat": 4,
 "nbformat_minor": 1
}
