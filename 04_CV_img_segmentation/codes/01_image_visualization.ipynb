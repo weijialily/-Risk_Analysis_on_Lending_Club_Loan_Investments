{
 "cells": [
  {
   "cell_type": "code",
   "execution_count": 1,
   "metadata": {},
   "outputs": [
    {
     "name": "stdout",
     "output_type": "stream",
     "text": [
      "how many images in trainset folder:  12090\n",
      "how many images in testset folder:  0\n",
      "how many masks in trainset:  12047\n"
     ]
    }
   ],
   "source": [
    "import sys\n",
    "sys.path.append('../')\n",
    "\n",
    "import numpy as np\n",
    "import pandas as pd\n",
    "from matplotlib import pyplot as plt\n",
    "import cv2\n",
    "import PIL\n",
    "from glob import glob\n",
    "import copy\n",
    "\n",
    "from dataset.dataset_unet import mask2data\n",
    "from utils.mask_functions import rle2mask\n",
    "\n",
    "train_fname_list = glob('../data/processed/train/*')\n",
    "test_fname_list = glob('../data/processed/test/*')\n",
    "print('how many images in trainset folder: ', len(train_fname_list))\n",
    "print('how many images in testset folder: ', len(test_fname_list))\n",
    "\n",
    "np.random.seed(2018)\n",
    "\n",
    "mask_data = mask2data()\n",
    "def get_mask(fname, mask_data):\n",
    "    img_id = fname.split('/')[-1][:-4]\n",
    "    try:\n",
    "        rle = [m for m in mask_data if m['img_id']==img_id][0]['masks'][0]\n",
    "        return rle2mask(rle, 1024, 1024).T\n",
    "    except:\n",
    "        return np.zeros((1024, 1024))\n",
    "print('how many masks in trainset: ', len(mask_data))\n",
    "\n",
    "%matplotlib inline"
   ]
  },
  {
   "cell_type": "code",
   "execution_count": null,
   "metadata": {},
   "outputs": [],
   "source": []
  },
  {
   "cell_type": "code",
   "execution_count": null,
   "metadata": {},
   "outputs": [],
   "source": []
  },
  {
   "cell_type": "code",
   "execution_count": null,
   "metadata": {},
   "outputs": [],
   "source": []
  },
  {
   "cell_type": "code",
   "execution_count": null,
   "metadata": {},
   "outputs": [],
   "source": []
  }
 ],
 "metadata": {
  "kernelspec": {
   "display_name": "cv",
   "language": "python",
   "name": "cv"
  },
  "language_info": {
   "codemirror_mode": {
    "name": "ipython",
    "version": 3
   },
   "file_extension": ".py",
   "mimetype": "text/x-python",
   "name": "python",
   "nbconvert_exporter": "python",
   "pygments_lexer": "ipython3",
   "version": "3.8.5"
  }
 },
 "nbformat": 4,
 "nbformat_minor": 4
}
