{
 "cells": [
  {
   "cell_type": "code",
   "execution_count": 1,
   "metadata": {
    "collapsed": true
   },
   "outputs": [],
   "source": [
    "import pandas as pd\n",
    "import numpy as np\n",
    "import matplotlib.pyplot as plt\n",
    "import xgboost as xgb\n",
    "import seaborn as sns\n",
    "from tqdm import tqdm\n",
    "%matplotlib inline"
   ]
  },
  {
   "cell_type": "markdown",
   "metadata": {},
   "source": [
    "## 1. Load Data and Preparation "
   ]
  },
  {
   "cell_type": "code",
   "execution_count": 2,
   "metadata": {
    "collapsed": true
   },
   "outputs": [],
   "source": [
    "df1 = pd.read_csv('../input/loan_2014_prp.csv', low_memory=False)\n",
    "df1 = df1[:-2] # The last two rows are invalid"
   ]
  },
  {
   "cell_type": "code",
   "execution_count": 3,
   "metadata": {},
   "outputs": [
    {
     "data": {
      "text/plain": [
       "(235629, 105)"
      ]
     },
     "execution_count": 3,
     "metadata": {},
     "output_type": "execute_result"
    }
   ],
   "source": [
    "df1.shape"
   ]
  },
  {
   "cell_type": "markdown",
   "metadata": {},
   "source": [
    "### (1) Data selection"
   ]
  },
  {
   "cell_type": "code",
   "execution_count": 4,
   "metadata": {
    "collapsed": true
   },
   "outputs": [],
   "source": [
    "all_num_feature = ['inqlast12m', 'secappopenactil', 'verificationstatusjoint', \n",
    "                   'allutil', 'openil24m', 'secappchargeoffwithin12mths', \n",
    "                   'maxbalbc', 'secappinqlast6mths', 'secappearliestcrline', \n",
    "                   'annualincjoint', 'secappmthssincelastmajorderog', 'id', \n",
    "                   'openrv12m', 'dtijoint', 'openrv24m', 'secappmortacc', \n",
    "                   'memberid', 'openacc6m', 'ilutil', 'secappopenacc', 'totalcutl', \n",
    "                   'mthssincercntil', 'totalbalil', 'secapprevolutil', \n",
    "                   'secappcollections12mthsexmed', 'inqfi', 'secappnumrevaccts', \n",
    "                   'openactil', 'revolbaljoint', 'openil12m']"
   ]
  },
  {
   "cell_type": "code",
   "execution_count": 5,
   "metadata": {
    "collapsed": true
   },
   "outputs": [],
   "source": [
    "ob_feature = ['disbursementmethod', 'grade', 'emplength', 'homeownership', \n",
    "              'addrstate', 'revolutil', 'earliestcrline', 'subgrade', 'emptitle', \n",
    "              'applicationtype', 'purpose', 'zipcode', 'desc', 'verificationstatus',\n",
    "              'initialliststatus', 'term', 'intrate', 'issued', 'loanstatus']"
   ]
  },
  {
   "cell_type": "code",
   "execution_count": 6,
   "metadata": {
    "collapsed": true
   },
   "outputs": [],
   "source": [
    "num_feature = ['dti', 'numactvrevtl', 'totalrevhilim', 'mosinoldrevtlop', \n",
    "               'pcttlnvrdlq', 'numbctl', 'avgcurbal', 'installment', \n",
    "               'collections12mthsexmed', 'mthssincelastrecord', 'inqlast6mths', \n",
    "               'mosinoldilacct', 'delinqamnt', 'mosinrcntrevtlop', 'pubrec', \n",
    "               'chargeoffwithin12mths', 'totalbalexmort', 'taxliens', 'numrevaccts', \n",
    "               'fundedamnt', 'numtloppast12m', 'accopenpast24mths', 'mosinrcnttl', \n",
    "               'loanamnt', 'mthssincerecentinq', 'bcopentobuy', 'totalilhighcreditlimit', \n",
    "               'numbcsats', 'mthssincerecentbc', 'numsats', 'numtl120dpd2m', \n",
    "               'mthssincerecentbcdlq', 'numtl90gdpd24m', 'totcurbal', 'mthssincelastdelinq', \n",
    "               'numactvbctl', 'mthssincelastmajorderog', 'percentbcgt75', 'numoprevtl', \n",
    "               'mthssincerecentrevoldelinq', 'totalbclimit', 'numrevtlbalgt0', \n",
    "               'tothicredlim', 'bcutil', 'pubrecbankruptcies', 'numacctsever120pd', \n",
    "               'openacc', 'revolbal', 'numtl30dpd', 'totalacc', 'accnowdelinq', 'mortacc', \n",
    "               'delinq2yrs', 'totcollamt', 'numiltl', 'annualinc']"
   ]
  },
  {
   "cell_type": "code",
   "execution_count": 7,
   "metadata": {},
   "outputs": [
    {
     "data": {
      "text/plain": [
       "75"
      ]
     },
     "execution_count": 7,
     "metadata": {},
     "output_type": "execute_result"
    }
   ],
   "source": [
    "select_feature = ob_feature + num_feature\n",
    "len(select_feature)"
   ]
  },
  {
   "cell_type": "markdown",
   "metadata": {},
   "source": [
    "Feature 'applicationtype' only has one value as 'individual'. Feature 'loanamnt' is always the same as feature 'fundedamnt'.  Over 93% of feature 'desc' value is NaN. Feature 'disbursementmethod' has one value as 'Cash'. Remove these features. At the same time, feature 'id','issued' and 'loanstatus' from ob_feature are index, train/test flag and target."
   ]
  },
  {
   "cell_type": "code",
   "execution_count": 8,
   "metadata": {
    "collapsed": true
   },
   "outputs": [],
   "source": [
    "ob_feature.remove('applicationtype')\n",
    "num_feature.remove('loanamnt')\n",
    "ob_feature.remove('desc')\n",
    "ob_feature.remove('loanstatus')\n",
    "ob_feature.remove('issued')\n",
    "ob_feature.remove('disbursementmethod')"
   ]
  },
  {
   "cell_type": "code",
   "execution_count": 9,
   "metadata": {},
   "outputs": [
    {
     "data": {
      "text/plain": [
       "69"
      ]
     },
     "execution_count": 9,
     "metadata": {},
     "output_type": "execute_result"
    }
   ],
   "source": [
    "select_feature = ob_feature+num_feature\n",
    "len(select_feature)"
   ]
  },
  {
   "cell_type": "code",
   "execution_count": 10,
   "metadata": {
    "collapsed": true
   },
   "outputs": [],
   "source": [
    "df = df1[select_feature+['loanstatus','issued']]"
   ]
  },
  {
   "cell_type": "code",
   "execution_count": 11,
   "metadata": {},
   "outputs": [
    {
     "data": {
      "text/plain": [
       "(235629, 71)"
      ]
     },
     "execution_count": 11,
     "metadata": {},
     "output_type": "execute_result"
    }
   ],
   "source": [
    "df.shape"
   ]
  },
  {
   "cell_type": "markdown",
   "metadata": {},
   "source": [
    "### (2) Select 36 months loan and label target"
   ]
  },
  {
   "cell_type": "markdown",
   "metadata": {},
   "source": [
    "In this work, only term = 36 months, and loanstatus = full paid and charged off are considered, Fully paid is labeled as 0 and charged off is labeled as 1."
   ]
  },
  {
   "cell_type": "code",
   "execution_count": 12,
   "metadata": {},
   "outputs": [
    {
     "data": {
      "text/plain": [
       "(161820, 71)"
      ]
     },
     "execution_count": 12,
     "metadata": {},
     "output_type": "execute_result"
    }
   ],
   "source": [
    "df = df.query(\"loanstatus == 'Fully Paid' or loanstatus == 'Charged Off' \")\n",
    "df = df.query(\"term ==' 36 months'\")\n",
    "df.shape"
   ]
  },
  {
   "cell_type": "code",
   "execution_count": 13,
   "metadata": {
    "collapsed": true
   },
   "outputs": [],
   "source": [
    "ob_feature.remove('term')"
   ]
  },
  {
   "cell_type": "code",
   "execution_count": 14,
   "metadata": {
    "collapsed": true
   },
   "outputs": [],
   "source": [
    "df['loanstatus'] = df.loanstatus.map({\"Charged Off\": 1, \"Fully Paid\": 0})"
   ]
  },
  {
   "cell_type": "code",
   "execution_count": 15,
   "metadata": {},
   "outputs": [
    {
     "name": "stdout",
     "output_type": "stream",
     "text": [
      "0    139703\n",
      "1     22117\n",
      "Name: loanstatus, dtype: int64\n",
      "0    0.863323\n",
      "1    0.136677\n",
      "Name: loanstatus, dtype: float64\n"
     ]
    }
   ],
   "source": [
    "print(df.loanstatus.value_counts())\n",
    "print(df.loanstatus.value_counts(normalize=True))"
   ]
  },
  {
   "cell_type": "markdown",
   "metadata": {},
   "source": [
    "### (3) Split 2014 data for training and testing"
   ]
  },
  {
   "cell_type": "markdown",
   "metadata": {},
   "source": [
    "To train and test the models, we split the 2014 data to 2 parts, training data from Jan. to Sept. and test data from Oct. to Dec. About 30% of data is used as test dataset. "
   ]
  },
  {
   "cell_type": "code",
   "execution_count": 16,
   "metadata": {},
   "outputs": [
    {
     "data": {
      "text/plain": [
       "['Dec-2014',\n",
       " 'Nov-2014',\n",
       " 'Oct-2014',\n",
       " 'Sep-2014',\n",
       " 'Aug-2014',\n",
       " 'Jul-2014',\n",
       " 'Jun-2014',\n",
       " 'May-2014',\n",
       " 'Apr-2014',\n",
       " 'Mar-2014',\n",
       " 'Feb-2014',\n",
       " 'Jan-2014']"
      ]
     },
     "execution_count": 16,
     "metadata": {},
     "output_type": "execute_result"
    }
   ],
   "source": [
    "issued = list(df['issued'].unique())\n",
    "issued"
   ]
  },
  {
   "cell_type": "code",
   "execution_count": 17,
   "metadata": {},
   "outputs": [
    {
     "data": {
      "text/plain": [
       "1    112533\n",
       "0     49287\n",
       "Name: train_flg, dtype: int64"
      ]
     },
     "execution_count": 17,
     "metadata": {},
     "output_type": "execute_result"
    }
   ],
   "source": [
    "df['train_flg'] = df.issued.apply(lambda x: 0 if x in issued[:3] else 1)\n",
    "df.train_flg.value_counts()"
   ]
  },
  {
   "cell_type": "markdown",
   "metadata": {},
   "source": [
    "## 2. Feature Engineering and Cleaning"
   ]
  },
  {
   "cell_type": "markdown",
   "metadata": {},
   "source": [
    "### (1) Datetime to numeric feature"
   ]
  },
  {
   "cell_type": "markdown",
   "metadata": {},
   "source": [
    "Covert feature ealiestcrline, which represents the beginning of credit line history, to number of months till Dec. 2014."
   ]
  },
  {
   "cell_type": "code",
   "execution_count": 18,
   "metadata": {},
   "outputs": [
    {
     "data": {
      "text/plain": [
       "array(['Sep-1989', 'Aug-2002', 'Nov-1992', 'Oct-2001', 'Oct-1998'], dtype=object)"
      ]
     },
     "execution_count": 18,
     "metadata": {},
     "output_type": "execute_result"
    }
   ],
   "source": [
    "df.earliestcrline.unique()[:5]"
   ]
  },
  {
   "cell_type": "code",
   "execution_count": 19,
   "metadata": {
    "collapsed": true
   },
   "outputs": [],
   "source": [
    "cl_month = df.earliestcrline.apply(lambda x: x.split('-')[0])\n",
    "cl_year = df.earliestcrline.apply(lambda x: int(x.split('-')[1]))"
   ]
  },
  {
   "cell_type": "code",
   "execution_count": 20,
   "metadata": {},
   "outputs": [
    {
     "name": "stdout",
     "output_type": "stream",
     "text": [
      "['Sep' 'Aug' 'Nov' 'Oct' 'May' 'Jul' 'Jan' 'Jun' 'Dec' 'Feb' 'Apr' 'Mar']\n",
      "[1989 2002 1992 2001 1998 2009 2003 1999 1996 1995 1993 2010 2007 2000 2011\n",
      " 2008 2006 1997 2004 1988 1994 2005 1987 1991 1985 1986 1973 1982 1984 1976\n",
      " 1983 1974 1981 1978 1990 1980 1979 1977 1969 1971 1967 1972 1968 1962 1975\n",
      " 1965 1966 1963 1970 1964 1958 1955 1959 1961 1960 1954 1957 1949 1950 1948\n",
      " 1953 1956]\n"
     ]
    }
   ],
   "source": [
    "print(cl_month.unique())\n",
    "print(cl_year.unique())"
   ]
  },
  {
   "cell_type": "code",
   "execution_count": 21,
   "metadata": {
    "collapsed": true
   },
   "outputs": [],
   "source": [
    "dic_month= {'Jan':11,'Feb':10,'Mar':9,'Apr':8, 'May':7, 'Jun':6, 'Jul':5, \n",
    "            'Aug':4, 'Sep':3, 'Oct':2, 'Nov':1, 'Dec':0}"
   ]
  },
  {
   "cell_type": "code",
   "execution_count": 22,
   "metadata": {
    "collapsed": true
   },
   "outputs": [],
   "source": [
    "df['earliestcrline_month'] = df.earliestcrline.apply(lambda x: (2014-int(x.split('-')[1]))*12+dic_month[x.split('-')[0]])"
   ]
  },
  {
   "cell_type": "code",
   "execution_count": 23,
   "metadata": {},
   "outputs": [
    {
     "data": {
      "text/plain": [
       "1    303\n",
       "4    148\n",
       "5    265\n",
       "6    158\n",
       "8    194\n",
       "Name: earliestcrline_month, dtype: int64"
      ]
     },
     "execution_count": 23,
     "metadata": {},
     "output_type": "execute_result"
    }
   ],
   "source": [
    "df.earliestcrline_month[:5]"
   ]
  },
  {
   "cell_type": "code",
   "execution_count": 24,
   "metadata": {},
   "outputs": [
    {
     "name": "stdout",
     "output_type": "stream",
     "text": [
      "12 56\n"
     ]
    }
   ],
   "source": [
    "num_feature.append('earliestcrline_month')\n",
    "ob_feature.remove('earliestcrline')\n",
    "print(len(ob_feature), len(num_feature))"
   ]
  },
  {
   "cell_type": "markdown",
   "metadata": {},
   "source": [
    "### (2) Employment length to numeric feature"
   ]
  },
  {
   "cell_type": "code",
   "execution_count": 25,
   "metadata": {},
   "outputs": [
    {
     "name": "stdout",
     "output_type": "stream",
     "text": [
      "0\n"
     ]
    },
    {
     "data": {
      "text/plain": [
       "array(['8 years', '< 1 year', '10+ years', '2 years', '9 years', '7 years',\n",
       "       '3 years', '1 year', 'n/a', '4 years', '5 years', '6 years'], dtype=object)"
      ]
     },
     "execution_count": 25,
     "metadata": {},
     "output_type": "execute_result"
    }
   ],
   "source": [
    "print(df['emplength'].isnull().sum())\n",
    "df['emplength'].unique()"
   ]
  },
  {
   "cell_type": "code",
   "execution_count": 26,
   "metadata": {
    "collapsed": true
   },
   "outputs": [],
   "source": [
    "df['emplength'].replace('n/a', np.nan, inplace=True)\n",
    "df['emplength'].replace('< 1 year', '0', inplace=True)\n",
    "df['emplength'].replace(to_replace='[^0-9]+', value='', inplace=True, regex=True)\n",
    "df.emplength.fillna(value=-999,inplace=True)\n",
    "df['emplength'] = df['emplength'].astype(int)"
   ]
  },
  {
   "cell_type": "code",
   "execution_count": 27,
   "metadata": {},
   "outputs": [
    {
     "data": {
      "text/plain": [
       " 10     50933\n",
       " 2      14594\n",
       " 3      13041\n",
       " 0      12995\n",
       " 1      10519\n",
       " 4       9619\n",
       "-999     9587\n",
       " 5       9109\n",
       " 7       8897\n",
       " 6       8182\n",
       " 8       8084\n",
       " 9       6260\n",
       "Name: emplength, dtype: int64"
      ]
     },
     "execution_count": 27,
     "metadata": {},
     "output_type": "execute_result"
    }
   ],
   "source": [
    "df.emplength.value_counts()"
   ]
  },
  {
   "cell_type": "code",
   "execution_count": 28,
   "metadata": {},
   "outputs": [
    {
     "name": "stdout",
     "output_type": "stream",
     "text": [
      "11 57\n"
     ]
    }
   ],
   "source": [
    "num_feature.append('emplength')\n",
    "ob_feature.remove('emplength')\n",
    "print(len(ob_feature), len(num_feature))"
   ]
  },
  {
   "cell_type": "markdown",
   "metadata": {},
   "source": [
    "### (3) Percentage to numeric features: intrate and revolutil"
   ]
  },
  {
   "cell_type": "code",
   "execution_count": 29,
   "metadata": {
    "collapsed": true
   },
   "outputs": [],
   "source": [
    "intrate = df.intrate.apply(lambda x: float(x.replace('%','')))"
   ]
  },
  {
   "cell_type": "code",
   "execution_count": 30,
   "metadata": {},
   "outputs": [
    {
     "data": {
      "text/plain": [
       "1      6.99%\n",
       "4     13.66%\n",
       "Name: intrate, dtype: object"
      ]
     },
     "execution_count": 30,
     "metadata": {},
     "output_type": "execute_result"
    }
   ],
   "source": [
    "df.intrate[0:2]"
   ]
  },
  {
   "cell_type": "code",
   "execution_count": 31,
   "metadata": {},
   "outputs": [
    {
     "data": {
      "text/plain": [
       "1     6.99\n",
       "4    13.66\n",
       "Name: intrate, dtype: float64"
      ]
     },
     "execution_count": 31,
     "metadata": {},
     "output_type": "execute_result"
    }
   ],
   "source": [
    "df.intrate=intrate\n",
    "df.intrate[:2]"
   ]
  },
  {
   "cell_type": "code",
   "execution_count": 32,
   "metadata": {},
   "outputs": [
    {
     "data": {
      "text/plain": [
       "1    31.6%\n",
       "4    91.9%\n",
       "Name: revolutil, dtype: object"
      ]
     },
     "execution_count": 32,
     "metadata": {},
     "output_type": "execute_result"
    }
   ],
   "source": [
    "df.revolutil[:2]"
   ]
  },
  {
   "cell_type": "code",
   "execution_count": 33,
   "metadata": {
    "collapsed": true
   },
   "outputs": [],
   "source": [
    "revolutil = df.revolutil.apply(lambda x: str(x).replace('%','')).astype(float)"
   ]
  },
  {
   "cell_type": "code",
   "execution_count": 34,
   "metadata": {},
   "outputs": [
    {
     "data": {
      "text/plain": [
       "1    31.6\n",
       "4    91.9\n",
       "Name: revolutil, dtype: float64"
      ]
     },
     "execution_count": 34,
     "metadata": {},
     "output_type": "execute_result"
    }
   ],
   "source": [
    "df.revolutil=revolutil\n",
    "df.revolutil[:2]"
   ]
  },
  {
   "cell_type": "code",
   "execution_count": 35,
   "metadata": {
    "collapsed": true
   },
   "outputs": [],
   "source": [
    "ob_feature.remove('intrate')\n",
    "num_feature.append('intrate')\n",
    "ob_feature.remove('revolutil')\n",
    "num_feature.append('revolutil')"
   ]
  },
  {
   "cell_type": "code",
   "execution_count": 36,
   "metadata": {},
   "outputs": [
    {
     "name": "stdout",
     "output_type": "stream",
     "text": [
      "9 59\n"
     ]
    }
   ],
   "source": [
    "print(len(ob_feature), len(num_feature))"
   ]
  },
  {
   "cell_type": "markdown",
   "metadata": {},
   "source": [
    "### (4) Ordinal feature encoding: grade and subgrade"
   ]
  },
  {
   "cell_type": "code",
   "execution_count": 37,
   "metadata": {
    "collapsed": true
   },
   "outputs": [],
   "source": [
    "Dic_grade = {\"A\": 1, \n",
    "            \"B\": 2, \n",
    "            \"C\": 3, \n",
    "            \"D\": 4, \n",
    "            \"E\": 5,\n",
    "            \"F\": 6, \n",
    "            \"G\": 7}"
   ]
  },
  {
   "cell_type": "code",
   "execution_count": 38,
   "metadata": {
    "collapsed": true
   },
   "outputs": [],
   "source": [
    "df.grade = df.grade.map(Dic_grade)"
   ]
  },
  {
   "cell_type": "code",
   "execution_count": 39,
   "metadata": {
    "collapsed": true
   },
   "outputs": [],
   "source": [
    "df.subgrade = df.subgrade.apply(lambda x: (Dic_grade[x[0]] - 1) * 5 + int(x[1]))"
   ]
  },
  {
   "cell_type": "code",
   "execution_count": 40,
   "metadata": {
    "collapsed": true
   },
   "outputs": [],
   "source": [
    "ob_feature.remove('grade')\n",
    "num_feature.append('grade')\n",
    "ob_feature.remove('subgrade')\n",
    "num_feature.append('subgrade')"
   ]
  },
  {
   "cell_type": "code",
   "execution_count": 41,
   "metadata": {},
   "outputs": [
    {
     "name": "stdout",
     "output_type": "stream",
     "text": [
      "7 61\n"
     ]
    }
   ],
   "source": [
    "print(len(ob_feature), len(num_feature))"
   ]
  },
  {
   "cell_type": "markdown",
   "metadata": {},
   "source": [
    "### (5) High cardinality feature encoding"
   ]
  },
  {
   "cell_type": "markdown",
   "metadata": {},
   "source": [
    "#### (a) Zip code - frequency encoding"
   ]
  },
  {
   "cell_type": "code",
   "execution_count": 42,
   "metadata": {},
   "outputs": [
    {
     "name": "stdout",
     "output_type": "stream",
     "text": [
      "854 ['937xx' '850xx' '077xx' '554xx' '982xx']\n"
     ]
    }
   ],
   "source": [
    "print(df.zipcode.nunique(), df.zipcode.unique()[:5])"
   ]
  },
  {
   "cell_type": "code",
   "execution_count": 43,
   "metadata": {
    "collapsed": true
   },
   "outputs": [],
   "source": [
    "# convert zipcode to int\n",
    "df.zipcode = df.zipcode.apply(lambda x: int(x[0:3]))"
   ]
  },
  {
   "cell_type": "code",
   "execution_count": 44,
   "metadata": {},
   "outputs": [
    {
     "data": {
      "text/plain": [
       "1    937\n",
       "4    850\n",
       "5     77\n",
       "6    554\n",
       "8    982\n",
       "Name: zipcode, dtype: int64"
      ]
     },
     "execution_count": 44,
     "metadata": {},
     "output_type": "execute_result"
    }
   ],
   "source": [
    "df.zipcode[:5]"
   ]
  },
  {
   "cell_type": "code",
   "execution_count": 45,
   "metadata": {
    "collapsed": true
   },
   "outputs": [],
   "source": [
    "zipcode_freq = df.groupby(\"zipcode\").size().reset_index()"
   ]
  },
  {
   "cell_type": "code",
   "execution_count": 46,
   "metadata": {},
   "outputs": [
    {
     "data": {
      "text/html": [
       "<div>\n",
       "<style>\n",
       "    .dataframe thead tr:only-child th {\n",
       "        text-align: right;\n",
       "    }\n",
       "\n",
       "    .dataframe thead th {\n",
       "        text-align: left;\n",
       "    }\n",
       "\n",
       "    .dataframe tbody tr th {\n",
       "        vertical-align: top;\n",
       "    }\n",
       "</style>\n",
       "<table border=\"1\" class=\"dataframe\">\n",
       "  <thead>\n",
       "    <tr style=\"text-align: right;\">\n",
       "      <th></th>\n",
       "      <th>zipcode</th>\n",
       "      <th>0</th>\n",
       "    </tr>\n",
       "  </thead>\n",
       "  <tbody>\n",
       "    <tr>\n",
       "      <th>0</th>\n",
       "      <td>8</td>\n",
       "      <td>1</td>\n",
       "    </tr>\n",
       "    <tr>\n",
       "      <th>1</th>\n",
       "      <td>10</td>\n",
       "      <td>229</td>\n",
       "    </tr>\n",
       "    <tr>\n",
       "      <th>2</th>\n",
       "      <td>11</td>\n",
       "      <td>66</td>\n",
       "    </tr>\n",
       "    <tr>\n",
       "      <th>3</th>\n",
       "      <td>12</td>\n",
       "      <td>69</td>\n",
       "    </tr>\n",
       "    <tr>\n",
       "      <th>4</th>\n",
       "      <td>13</td>\n",
       "      <td>41</td>\n",
       "    </tr>\n",
       "  </tbody>\n",
       "</table>\n",
       "</div>"
      ],
      "text/plain": [
       "   zipcode    0\n",
       "0        8    1\n",
       "1       10  229\n",
       "2       11   66\n",
       "3       12   69\n",
       "4       13   41"
      ]
     },
     "execution_count": 46,
     "metadata": {},
     "output_type": "execute_result"
    }
   ],
   "source": [
    "zipcode_freq[0:5]"
   ]
  },
  {
   "cell_type": "code",
   "execution_count": 47,
   "metadata": {
    "collapsed": true
   },
   "outputs": [],
   "source": [
    "zipcode_freq.columns = [\"zipcode\", \"zipcode_freq\"]"
   ]
  },
  {
   "cell_type": "code",
   "execution_count": 48,
   "metadata": {
    "collapsed": true
   },
   "outputs": [],
   "source": [
    "df = pd.merge(df, zipcode_freq, how = \"left\", on = \"zipcode\")"
   ]
  },
  {
   "cell_type": "code",
   "execution_count": 49,
   "metadata": {},
   "outputs": [
    {
     "data": {
      "text/html": [
       "<div>\n",
       "<style>\n",
       "    .dataframe thead tr:only-child th {\n",
       "        text-align: right;\n",
       "    }\n",
       "\n",
       "    .dataframe thead th {\n",
       "        text-align: left;\n",
       "    }\n",
       "\n",
       "    .dataframe tbody tr th {\n",
       "        vertical-align: top;\n",
       "    }\n",
       "</style>\n",
       "<table border=\"1\" class=\"dataframe\">\n",
       "  <thead>\n",
       "    <tr style=\"text-align: right;\">\n",
       "      <th></th>\n",
       "      <th>zipcode</th>\n",
       "      <th>zipcode_freq</th>\n",
       "    </tr>\n",
       "  </thead>\n",
       "  <tbody>\n",
       "    <tr>\n",
       "      <th>0</th>\n",
       "      <td>937</td>\n",
       "      <td>243</td>\n",
       "    </tr>\n",
       "    <tr>\n",
       "      <th>1</th>\n",
       "      <td>850</td>\n",
       "      <td>731</td>\n",
       "    </tr>\n",
       "    <tr>\n",
       "      <th>2</th>\n",
       "      <td>77</td>\n",
       "      <td>362</td>\n",
       "    </tr>\n",
       "    <tr>\n",
       "      <th>3</th>\n",
       "      <td>554</td>\n",
       "      <td>634</td>\n",
       "    </tr>\n",
       "    <tr>\n",
       "      <th>4</th>\n",
       "      <td>982</td>\n",
       "      <td>448</td>\n",
       "    </tr>\n",
       "  </tbody>\n",
       "</table>\n",
       "</div>"
      ],
      "text/plain": [
       "   zipcode  zipcode_freq\n",
       "0      937           243\n",
       "1      850           731\n",
       "2       77           362\n",
       "3      554           634\n",
       "4      982           448"
      ]
     },
     "execution_count": 49,
     "metadata": {},
     "output_type": "execute_result"
    }
   ],
   "source": [
    "df[zipcode_freq.columns][:5]"
   ]
  },
  {
   "cell_type": "code",
   "execution_count": 50,
   "metadata": {
    "collapsed": true
   },
   "outputs": [],
   "source": [
    "ob_feature.remove('zipcode')\n",
    "num_feature.append('zipcode')\n",
    "num_feature.append('zipcode_freq')"
   ]
  },
  {
   "cell_type": "code",
   "execution_count": 51,
   "metadata": {},
   "outputs": [
    {
     "name": "stdout",
     "output_type": "stream",
     "text": [
      "6 63\n"
     ]
    }
   ],
   "source": [
    "print(len(ob_feature), len(num_feature))"
   ]
  },
  {
   "cell_type": "markdown",
   "metadata": {},
   "source": [
    "#### (b) emptitle-frequency encoding (can do some NLP as improvement)"
   ]
  },
  {
   "cell_type": "code",
   "execution_count": 52,
   "metadata": {
    "collapsed": true
   },
   "outputs": [],
   "source": [
    "emptitle_freq = df.groupby(\"emptitle\").size().reset_index()\n",
    "emptitle_freq.columns = [\"emptitle\", \"emptitle_freq\"]\n",
    "df = pd.merge(df, emptitle_freq, how = \"left\", on = \"emptitle\")"
   ]
  },
  {
   "cell_type": "code",
   "execution_count": 53,
   "metadata": {},
   "outputs": [
    {
     "data": {
      "text/html": [
       "<div>\n",
       "<style>\n",
       "    .dataframe thead tr:only-child th {\n",
       "        text-align: right;\n",
       "    }\n",
       "\n",
       "    .dataframe thead th {\n",
       "        text-align: left;\n",
       "    }\n",
       "\n",
       "    .dataframe tbody tr th {\n",
       "        vertical-align: top;\n",
       "    }\n",
       "</style>\n",
       "<table border=\"1\" class=\"dataframe\">\n",
       "  <thead>\n",
       "    <tr style=\"text-align: right;\">\n",
       "      <th></th>\n",
       "      <th>emptitle</th>\n",
       "      <th>emptitle_freq</th>\n",
       "    </tr>\n",
       "  </thead>\n",
       "  <tbody>\n",
       "    <tr>\n",
       "      <th>0</th>\n",
       "      <td>Truck Driver Delivery Personel</td>\n",
       "      <td>1.0</td>\n",
       "    </tr>\n",
       "    <tr>\n",
       "      <th>1</th>\n",
       "      <td>Technical Specialist</td>\n",
       "      <td>17.0</td>\n",
       "    </tr>\n",
       "    <tr>\n",
       "      <th>2</th>\n",
       "      <td>Admin Specialist</td>\n",
       "      <td>5.0</td>\n",
       "    </tr>\n",
       "    <tr>\n",
       "      <th>3</th>\n",
       "      <td>Manufacturing Engineer</td>\n",
       "      <td>43.0</td>\n",
       "    </tr>\n",
       "    <tr>\n",
       "      <th>4</th>\n",
       "      <td>Teacher</td>\n",
       "      <td>3116.0</td>\n",
       "    </tr>\n",
       "  </tbody>\n",
       "</table>\n",
       "</div>"
      ],
      "text/plain": [
       "                         emptitle  emptitle_freq\n",
       "0  Truck Driver Delivery Personel            1.0\n",
       "1            Technical Specialist           17.0\n",
       "2                Admin Specialist            5.0\n",
       "3          Manufacturing Engineer           43.0\n",
       "4                         Teacher         3116.0"
      ]
     },
     "execution_count": 53,
     "metadata": {},
     "output_type": "execute_result"
    }
   ],
   "source": [
    "df[emptitle_freq.columns][0:5]"
   ]
  },
  {
   "cell_type": "code",
   "execution_count": 54,
   "metadata": {
    "collapsed": true
   },
   "outputs": [],
   "source": [
    "ob_feature.remove('emptitle')\n",
    "num_feature.append('emptitle_freq')"
   ]
  },
  {
   "cell_type": "code",
   "execution_count": 55,
   "metadata": {},
   "outputs": [
    {
     "name": "stdout",
     "output_type": "stream",
     "text": [
      "5 64\n"
     ]
    }
   ],
   "source": [
    "print(len(ob_feature), len(num_feature))"
   ]
  },
  {
   "cell_type": "markdown",
   "metadata": {},
   "source": [
    "#### (c) Addr_state - frequency encoding"
   ]
  },
  {
   "cell_type": "code",
   "execution_count": 56,
   "metadata": {
    "collapsed": true
   },
   "outputs": [],
   "source": [
    "addrstate_freq = df.groupby(\"addrstate\").size().reset_index()\n",
    "addrstate_freq.columns = [\"addrstate\", \"addrstate_freq\"]\n",
    "df = pd.merge(df, addrstate_freq, how = \"left\", on = \"addrstate\")"
   ]
  },
  {
   "cell_type": "code",
   "execution_count": 57,
   "metadata": {},
   "outputs": [
    {
     "data": {
      "text/html": [
       "<div>\n",
       "<style>\n",
       "    .dataframe thead tr:only-child th {\n",
       "        text-align: right;\n",
       "    }\n",
       "\n",
       "    .dataframe thead th {\n",
       "        text-align: left;\n",
       "    }\n",
       "\n",
       "    .dataframe tbody tr th {\n",
       "        vertical-align: top;\n",
       "    }\n",
       "</style>\n",
       "<table border=\"1\" class=\"dataframe\">\n",
       "  <thead>\n",
       "    <tr style=\"text-align: right;\">\n",
       "      <th></th>\n",
       "      <th>addrstate</th>\n",
       "      <th>addrstate_freq</th>\n",
       "    </tr>\n",
       "  </thead>\n",
       "  <tbody>\n",
       "    <tr>\n",
       "      <th>0</th>\n",
       "      <td>CA</td>\n",
       "      <td>24239</td>\n",
       "    </tr>\n",
       "    <tr>\n",
       "      <th>1</th>\n",
       "      <td>AZ</td>\n",
       "      <td>3876</td>\n",
       "    </tr>\n",
       "    <tr>\n",
       "      <th>2</th>\n",
       "      <td>NJ</td>\n",
       "      <td>5985</td>\n",
       "    </tr>\n",
       "    <tr>\n",
       "      <th>3</th>\n",
       "      <td>MN</td>\n",
       "      <td>2937</td>\n",
       "    </tr>\n",
       "    <tr>\n",
       "      <th>4</th>\n",
       "      <td>WA</td>\n",
       "      <td>3551</td>\n",
       "    </tr>\n",
       "  </tbody>\n",
       "</table>\n",
       "</div>"
      ],
      "text/plain": [
       "  addrstate  addrstate_freq\n",
       "0        CA           24239\n",
       "1        AZ            3876\n",
       "2        NJ            5985\n",
       "3        MN            2937\n",
       "4        WA            3551"
      ]
     },
     "execution_count": 57,
     "metadata": {},
     "output_type": "execute_result"
    }
   ],
   "source": [
    "df[addrstate_freq.columns][0:5]"
   ]
  },
  {
   "cell_type": "code",
   "execution_count": 58,
   "metadata": {
    "collapsed": true
   },
   "outputs": [],
   "source": [
    "ob_feature.remove('addrstate')\n",
    "num_feature.append('addrstate_freq')"
   ]
  },
  {
   "cell_type": "code",
   "execution_count": 59,
   "metadata": {},
   "outputs": [
    {
     "name": "stdout",
     "output_type": "stream",
     "text": [
      "4 65\n"
     ]
    }
   ],
   "source": [
    "print(len(ob_feature), len(num_feature))"
   ]
  },
  {
   "cell_type": "markdown",
   "metadata": {},
   "source": [
    "#### (d) One-hot encoding"
   ]
  },
  {
   "cell_type": "code",
   "execution_count": 60,
   "metadata": {
    "collapsed": true
   },
   "outputs": [],
   "source": [
    "dummy_feature = [\"homeownership\", \"verificationstatus\", \"purpose\", \"initialliststatus\"]"
   ]
  },
  {
   "cell_type": "code",
   "execution_count": 61,
   "metadata": {
    "collapsed": true
   },
   "outputs": [],
   "source": [
    "df_dummy = pd.get_dummies(df[dummy_feature])"
   ]
  },
  {
   "cell_type": "code",
   "execution_count": 62,
   "metadata": {
    "collapsed": true
   },
   "outputs": [],
   "source": [
    "OHE_feature = list(df_dummy.columns.values)"
   ]
  },
  {
   "cell_type": "code",
   "execution_count": 63,
   "metadata": {},
   "outputs": [
    {
     "data": {
      "text/plain": [
       "22"
      ]
     },
     "execution_count": 63,
     "metadata": {},
     "output_type": "execute_result"
    }
   ],
   "source": [
    "len(OHE_feature)"
   ]
  },
  {
   "cell_type": "code",
   "execution_count": 64,
   "metadata": {
    "collapsed": true
   },
   "outputs": [],
   "source": [
    "df = pd.concat([df,df_dummy], axis=1 )"
   ]
  },
  {
   "cell_type": "code",
   "execution_count": 65,
   "metadata": {},
   "outputs": [
    {
     "data": {
      "text/plain": [
       "(161820, 98)"
      ]
     },
     "execution_count": 65,
     "metadata": {},
     "output_type": "execute_result"
    }
   ],
   "source": [
    "df.shape"
   ]
  },
  {
   "cell_type": "code",
   "execution_count": 66,
   "metadata": {},
   "outputs": [
    {
     "data": {
      "text/plain": [
       "0"
      ]
     },
     "execution_count": 66,
     "metadata": {},
     "output_type": "execute_result"
    }
   ],
   "source": [
    "for feat in dummy_feature: \n",
    "    ob_feature.remove(feat)\n",
    "len(ob_feature)"
   ]
  },
  {
   "cell_type": "code",
   "execution_count": 67,
   "metadata": {},
   "outputs": [
    {
     "data": {
      "text/plain": [
       "87"
      ]
     },
     "execution_count": 67,
     "metadata": {},
     "output_type": "execute_result"
    }
   ],
   "source": [
    "select_feature = num_feature+OHE_feature\n",
    "len(select_feature)"
   ]
  },
  {
   "cell_type": "markdown",
   "metadata": {},
   "source": [
    "## 3. Models"
   ]
  },
  {
   "cell_type": "markdown",
   "metadata": {},
   "source": [
    "### (1) XGBoost"
   ]
  },
  {
   "cell_type": "code",
   "execution_count": 68,
   "metadata": {},
   "outputs": [
    {
     "name": "stdout",
     "output_type": "stream",
     "text": [
      "['dti', 'numactvrevtl', 'totalrevhilim', 'mosinoldrevtlop', 'pcttlnvrdlq', 'numbctl', 'avgcurbal', 'installment', 'collections12mthsexmed', 'mthssincelastrecord', 'inqlast6mths', 'mosinoldilacct', 'delinqamnt', 'mosinrcntrevtlop', 'pubrec', 'chargeoffwithin12mths', 'totalbalexmort', 'taxliens', 'numrevaccts', 'fundedamnt', 'numtloppast12m', 'accopenpast24mths', 'mosinrcnttl', 'mthssincerecentinq', 'bcopentobuy', 'totalilhighcreditlimit', 'numbcsats', 'mthssincerecentbc', 'numsats', 'numtl120dpd2m', 'mthssincerecentbcdlq', 'numtl90gdpd24m', 'totcurbal', 'mthssincelastdelinq', 'numactvbctl', 'mthssincelastmajorderog', 'percentbcgt75', 'numoprevtl', 'mthssincerecentrevoldelinq', 'totalbclimit', 'numrevtlbalgt0', 'tothicredlim', 'bcutil', 'pubrecbankruptcies', 'numacctsever120pd', 'openacc', 'revolbal', 'numtl30dpd', 'totalacc', 'accnowdelinq', 'mortacc', 'delinq2yrs', 'totcollamt', 'numiltl', 'annualinc', 'earliestcrline_month', 'emplength', 'intrate', 'revolutil', 'grade', 'subgrade', 'zipcode', 'zipcode_freq', 'emptitle_freq', 'addrstate_freq', 'homeownership_ANY', 'homeownership_MORTGAGE', 'homeownership_OWN', 'homeownership_RENT', 'verificationstatus_Not Verified', 'verificationstatus_Source Verified', 'verificationstatus_Verified', 'purpose_car', 'purpose_credit_card', 'purpose_debt_consolidation', 'purpose_home_improvement', 'purpose_house', 'purpose_major_purchase', 'purpose_medical', 'purpose_moving', 'purpose_other', 'purpose_renewable_energy', 'purpose_small_business', 'purpose_vacation', 'purpose_wedding', 'initialliststatus_f', 'initialliststatus_w']\n"
     ]
    }
   ],
   "source": [
    "feat = select_feature\n",
    "print(feat)"
   ]
  },
  {
   "cell_type": "code",
   "execution_count": 69,
   "metadata": {
    "collapsed": true
   },
   "outputs": [],
   "source": [
    "df_train = df.query(\"train_flg == 1\")\n",
    "df_test = df.query(\"train_flg == 0\" )"
   ]
  },
  {
   "cell_type": "code",
   "execution_count": 70,
   "metadata": {},
   "outputs": [
    {
     "name": "stdout",
     "output_type": "stream",
     "text": [
      "(112533, 98) (49287, 98)\n"
     ]
    }
   ],
   "source": [
    "print(df_train.shape, df_test.shape)"
   ]
  },
  {
   "cell_type": "code",
   "execution_count": 71,
   "metadata": {},
   "outputs": [
    {
     "data": {
      "text/plain": [
       "(112533, 87)"
      ]
     },
     "execution_count": 71,
     "metadata": {},
     "output_type": "execute_result"
    }
   ],
   "source": [
    "df_train[feat].shape"
   ]
  },
  {
   "cell_type": "code",
   "execution_count": 72,
   "metadata": {
    "collapsed": true
   },
   "outputs": [],
   "source": [
    "train_x = df_train[feat].values\n",
    "train_y = df_train.loanstatus.values"
   ]
  },
  {
   "cell_type": "code",
   "execution_count": 73,
   "metadata": {},
   "outputs": [
    {
     "data": {
      "text/plain": [
       "112533"
      ]
     },
     "execution_count": 73,
     "metadata": {},
     "output_type": "execute_result"
    }
   ],
   "source": [
    "len(train_y)"
   ]
  },
  {
   "cell_type": "code",
   "execution_count": 74,
   "metadata": {
    "collapsed": true
   },
   "outputs": [],
   "source": [
    "dtrain = xgb.DMatrix(train_x, label=train_y, missing = np.NAN)"
   ]
  },
  {
   "cell_type": "markdown",
   "metadata": {},
   "source": [
    "#### Baseline result with sample parameters"
   ]
  },
  {
   "cell_type": "code",
   "execution_count": 75,
   "metadata": {
    "collapsed": true
   },
   "outputs": [],
   "source": [
    "params = {\"objective\": \"binary:logistic\", \n",
    "          #\"booster\" : \"gbtree\", \n",
    "          \"eta\": 0.05, \n",
    "          \"max_depth\": 6, \n",
    "          \"subsample\": 0.632, \n",
    "          \"colsample_bytree\": 0.7,\n",
    "          #\"silent\": 1, \n",
    "          \"seed\": 1234, \n",
    "          \"eval_metric\": \"auc\",\n",
    "          \"min_child_weight\": 5,\n",
    "          \"gamma\": 0} "
   ]
  },
  {
   "cell_type": "code",
   "execution_count": 76,
   "metadata": {},
   "outputs": [
    {
     "name": "stdout",
     "output_type": "stream",
     "text": [
      "[0]\ttrain-auc:0.671318+0.000492634\ttest-auc:0.656397+0.00657382\n",
      "[50]\ttrain-auc:0.723847+0.00111724\ttest-auc:0.682032+0.00513994\n",
      "[100]\ttrain-auc:0.750463+0.000678553\ttest-auc:0.687451+0.00461522\n",
      "[150]\ttrain-auc:0.770954+0.000829507\ttest-auc:0.688613+0.00458919\n",
      "[200]\ttrain-auc:0.788505+0.0010105\ttest-auc:0.688764+0.00479097\n",
      "[250]\ttrain-auc:0.804054+0.00165852\ttest-auc:0.688734+0.00491169\n"
     ]
    }
   ],
   "source": [
    "cv_results = xgb.cv(params, dtrain,\n",
    "                    num_boost_round=1500,\n",
    "                    nfold=5,\n",
    "                    maximize=True, \n",
    "                    stratified=True,\n",
    "                    shuffle=True,\n",
    "                    verbose_eval=50,\n",
    "                    seed=1234,\n",
    "                    early_stopping_rounds=50)"
   ]
  },
  {
   "cell_type": "code",
   "execution_count": 77,
   "metadata": {
    "scrolled": true
   },
   "outputs": [
    {
     "name": "stdout",
     "output_type": "stream",
     "text": [
      "best score: 0.6889986 best iterations: 234\n"
     ]
    }
   ],
   "source": [
    "best_score = cv_results['test-auc-mean'].max()\n",
    "best_iteration = len(cv_results)\n",
    "print('best score:', best_score, 'best iterations:', best_iteration)"
   ]
  },
  {
   "cell_type": "markdown",
   "metadata": {},
   "source": [
    "### (a) Manul parameter tuning"
   ]
  },
  {
   "cell_type": "markdown",
   "metadata": {},
   "source": [
    "Max_depth tuning"
   ]
  },
  {
   "cell_type": "code",
   "execution_count": 85,
   "metadata": {},
   "outputs": [
    {
     "name": "stdout",
     "output_type": "stream",
     "text": [
      "[0]\ttrain-auc:0.651914+0.00179351\ttest-auc:0.648785+0.00327533\n",
      "[200]\ttrain-auc:0.722823+0.000893398\ttest-auc:0.689169+0.00509663\n",
      "3 0.6896676 237\n",
      "[0]\ttrain-auc:0.659671+0.00161535\ttest-auc:0.653507+0.00399848\n",
      "[200]\ttrain-auc:0.751571+0.00102771\ttest-auc:0.689149+0.00549674\n",
      "4 0.6896618 157\n",
      "[0]\ttrain-auc:0.665372+0.00106962\ttest-auc:0.655992+0.00473817\n",
      "5 0.6880586 115\n",
      "[0]\ttrain-auc:0.671318+0.000492634\ttest-auc:0.656397+0.00657382\n",
      "6 0.6867992 83\n",
      "[0]\ttrain-auc:0.677006+0.000935852\ttest-auc:0.654751+0.00693748\n",
      "7 0.6854704 62\n",
      "[0]\ttrain-auc:0.68298+0.0012357\ttest-auc:0.652029+0.00761758\n",
      "8 0.683143 45\n",
      "[0]\ttrain-auc:0.689311+0.00155055\ttest-auc:0.647803+0.0065025\n",
      "9 0.6810272 60\n",
      "[0]\ttrain-auc:0.695551+0.00229886\ttest-auc:0.643529+0.00634209\n",
      "10 0.6788434 48\n",
      "Best max_depth is 3\n",
      "CPU times: user 48min 46s, sys: 39.4 s, total: 49min 25s\n",
      "Wall time: 16min 25s\n"
     ]
    }
   ],
   "source": [
    "%%time\n",
    "scores = []\n",
    "for max_depth in [3, 4, 5, 6, 7, 8, 9, 10]:\n",
    "\n",
    "    params = dict()\n",
    "    params['objective'] = 'binary:logistic'\n",
    "    params['eta'] = 0.1\n",
    "    params['max_depth'] = max_depth\n",
    "    params['min_child_weight'] = 5\n",
    "    params['colsample_bytree'] = 0.7\n",
    "    params['subsample'] = 0.632\n",
    "    params['gamma'] = 0\n",
    "    params['seed'] = 1234\n",
    "    params['eval_metric'] = 'auc'\n",
    "    cv_results = xgb.cv(params, dtrain,\n",
    "                    num_boost_round=1500,\n",
    "                    nfold=5,\n",
    "                    maximize=True, \n",
    "                    stratified=True,\n",
    "                    shuffle=True,\n",
    "                    verbose_eval=200,\n",
    "                    seed=1234,\n",
    "                    early_stopping_rounds=50)\n",
    "\n",
    "    \n",
    "    best_score = cv_results['test-auc-mean'].max()\n",
    "    best_iteration = len(cv_results)           \n",
    "    print(max_depth, best_score, best_iteration)\n",
    "    scores.append([best_score, params['eta'], params['max_depth'], params['min_child_weight'],\n",
    "                   params['colsample_bytree'], params['subsample'], params['gamma'], best_iteration])\n",
    "\n",
    "scores = pd.DataFrame(scores, columns=['score', 'eta', 'max_depth', 'min_child_weight',\n",
    "                                       'colsample_bytree', 'subsample', 'gamma', 'best_iteration'])\n",
    "best_max_depth = scores.sort_values(by='score', ascending=False)['max_depth'].values[0]\n",
    "print('Best max_depth is', best_max_depth)    "
   ]
  },
  {
   "cell_type": "markdown",
   "metadata": {},
   "source": [
    "Min_child_weight tuning"
   ]
  },
  {
   "cell_type": "code",
   "execution_count": 87,
   "metadata": {},
   "outputs": [
    {
     "name": "stdout",
     "output_type": "stream",
     "text": [
      "[0]\ttrain-auc:0.651914+0.00179351\ttest-auc:0.648785+0.00327533\n",
      "[200]\ttrain-auc:0.723929+0.000866816\ttest-auc:0.689057+0.0052738\n",
      "1 0.6896198 248\n",
      "[0]\ttrain-auc:0.651914+0.00179351\ttest-auc:0.648785+0.00327533\n",
      "[200]\ttrain-auc:0.722823+0.000893398\ttest-auc:0.689169+0.00509663\n",
      "5 0.6896676 237\n",
      "[0]\ttrain-auc:0.651914+0.00179351\ttest-auc:0.648785+0.00327533\n",
      "[200]\ttrain-auc:0.722118+0.000488295\ttest-auc:0.689243+0.00487686\n",
      "10 0.6894468 241\n",
      "[0]\ttrain-auc:0.651914+0.00179351\ttest-auc:0.648785+0.00327533\n",
      "[200]\ttrain-auc:0.720984+0.000539547\ttest-auc:0.689173+0.00494273\n",
      "15 0.6896262 247\n",
      "[0]\ttrain-auc:0.651914+0.00179351\ttest-auc:0.648785+0.00327533\n",
      "[200]\ttrain-auc:0.720249+0.000509386\ttest-auc:0.689871+0.00477785\n",
      "25 0.6903392 241\n",
      "[0]\ttrain-auc:0.651914+0.00179351\ttest-auc:0.648785+0.00327533\n",
      "[200]\ttrain-auc:0.719336+0.00069008\ttest-auc:0.689782+0.00535958\n",
      "35 0.6904634 279\n",
      "[0]\ttrain-auc:0.651914+0.00179351\ttest-auc:0.648785+0.00327533\n",
      "[200]\ttrain-auc:0.718722+0.000597294\ttest-auc:0.690371+0.00458062\n",
      "50 0.6907786 237\n",
      "[0]\ttrain-auc:0.651914+0.00179351\ttest-auc:0.648785+0.00327533\n",
      "[200]\ttrain-auc:0.716381+0.00058434\ttest-auc:0.690439+0.00478106\n",
      "100 0.6910576 267\n",
      "Best min_child_weight is 100\n",
      "CPU times: user 54min 49s, sys: 51.8 s, total: 55min 41s\n",
      "Wall time: 19min 30s\n"
     ]
    }
   ],
   "source": [
    "%%time\n",
    "scores = []\n",
    "for min_child_weight in [1, 5, 10, 15, 25, 35, 50, 100]:\n",
    "\n",
    "    params = dict()\n",
    "    params['objective'] = 'binary:logistic'\n",
    "    params['eta'] = 0.1\n",
    "    params['max_depth'] = best_max_depth\n",
    "    params['min_child_weight'] = min_child_weight\n",
    "    params['colsample_bytree'] = 0.7\n",
    "    params['subsample'] = 0.632\n",
    "    params['gamma'] = 0\n",
    "    params['seed'] = 1234\n",
    "    params['eval_metric'] = 'auc'\n",
    "    cv_results = xgb.cv(params, dtrain,\n",
    "                    num_boost_round=1500,\n",
    "                    nfold=5,\n",
    "                    maximize=True, \n",
    "                    stratified=True,\n",
    "                    shuffle=True,\n",
    "                    verbose_eval=200,\n",
    "                    seed=1234,\n",
    "                    early_stopping_rounds=50)\n",
    "\n",
    "    \n",
    "    best_score = cv_results['test-auc-mean'].max()\n",
    "    best_iteration = len(cv_results)           \n",
    "    print(min_child_weight, best_score, best_iteration)\n",
    "    scores.append([best_score, params['eta'], params['max_depth'], params['min_child_weight'],\n",
    "                   params['colsample_bytree'], params['subsample'], params['gamma'], best_iteration])\n",
    "\n",
    "scores = pd.DataFrame(scores, columns=['score', 'eta', 'max_depth', 'min_child_weight',\n",
    "                                       'colsample_bytree', 'subsample', 'gamma', 'best_iteration'])\n",
    "best_min_child_weight = scores.sort_values(by='score', ascending=False)['min_child_weight'].values[0]\n",
    "print('Best min_child_weight is', best_min_child_weight)    "
   ]
  },
  {
   "cell_type": "markdown",
   "metadata": {},
   "source": [
    "Colsample_bytree tuning"
   ]
  },
  {
   "cell_type": "code",
   "execution_count": 88,
   "metadata": {},
   "outputs": [
    {
     "name": "stdout",
     "output_type": "stream",
     "text": [
      "[0]\ttrain-auc:0.618118+0.0331907\ttest-auc:0.617953+0.0295702\n",
      "[200]\ttrain-auc:0.708057+0.000620722\ttest-auc:0.688186+0.00411364\n",
      "[400]\ttrain-auc:0.722895+0.000701379\ttest-auc:0.689856+0.00426685\n",
      "0.1 0.689911 397\n",
      "[0]\ttrain-auc:0.650624+0.00142834\ttest-auc:0.647185+0.00485368\n",
      "[200]\ttrain-auc:0.713596+0.000544877\ttest-auc:0.689963+0.00479733\n",
      "0.3 0.6907022 320\n",
      "[0]\ttrain-auc:0.650817+0.0015715\ttest-auc:0.646717+0.00493359\n",
      "[200]\ttrain-auc:0.715141+0.000827387\ttest-auc:0.69011+0.00490638\n",
      "0.5 0.6907086 292\n",
      "[0]\ttrain-auc:0.651914+0.00179351\ttest-auc:0.648785+0.00327533\n",
      "[200]\ttrain-auc:0.716381+0.00058434\ttest-auc:0.690439+0.00478106\n",
      "0.7 0.6910576 267\n",
      "[0]\ttrain-auc:0.65212+0.00185117\ttest-auc:0.648721+0.00387609\n",
      "[200]\ttrain-auc:0.717539+0.000912884\ttest-auc:0.68982+0.0043423\n",
      "0.9 0.6904242 240\n",
      "Best colsample_bytree is 0.7\n",
      "CPU times: user 30min 3s, sys: 34.4 s, total: 30min 37s\n",
      "Wall time: 11min 11s\n"
     ]
    }
   ],
   "source": [
    "%%time\n",
    "scores = []\n",
    "for colsample_bytree in [0.1, 0.3, 0.5, 0.7, 0.9]:\n",
    "\n",
    "    params = dict()\n",
    "    params['objective'] = 'binary:logistic'\n",
    "    params['eta'] = 0.1\n",
    "    params['max_depth'] = best_max_depth\n",
    "    params['min_child_weight'] = best_min_child_weight\n",
    "    params['colsample_bytree'] = colsample_bytree\n",
    "    params['subsample'] = 0.632\n",
    "    params['gamma'] = 0\n",
    "    params['seed'] = 1234\n",
    "    params['eval_metric'] = 'auc'\n",
    "    cv_results = xgb.cv(params, dtrain,\n",
    "                    num_boost_round=1500,\n",
    "                    nfold=5,\n",
    "                    maximize=True, \n",
    "                    stratified=True,\n",
    "                    shuffle=True,\n",
    "                    verbose_eval=200,\n",
    "                    seed=1234,\n",
    "                    early_stopping_rounds=50)\n",
    "\n",
    "    \n",
    "    best_score = cv_results['test-auc-mean'].max()\n",
    "    best_iteration = len(cv_results)           \n",
    "    print(colsample_bytree, best_score, best_iteration)\n",
    "    scores.append([best_score, params['eta'], params['max_depth'], params['min_child_weight'],\n",
    "                   params['colsample_bytree'], params['subsample'], params['gamma'], best_iteration])\n",
    "\n",
    "scores = pd.DataFrame(scores, columns=['score', 'eta', 'max_depth', 'min_child_weight',\n",
    "                                       'colsample_bytree', 'subsample', 'gamma', 'best_iteration'])\n",
    "best_colsample_bytree = scores.sort_values(by='score', ascending=False)['colsample_bytree'].values[0]\n",
    "print('Best colsample_bytree is', best_colsample_bytree)    "
   ]
  },
  {
   "cell_type": "markdown",
   "metadata": {},
   "source": [
    "Subsample tuning"
   ]
  },
  {
   "cell_type": "code",
   "execution_count": 89,
   "metadata": {},
   "outputs": [
    {
     "name": "stdout",
     "output_type": "stream",
     "text": [
      "[0]\ttrain-auc:0.64338+0.00261981\ttest-auc:0.642569+0.00594003\n",
      "[200]\ttrain-auc:0.700348+0.00130373\ttest-auc:0.685038+0.00503653\n",
      "0.1 0.6851476 197\n",
      "[0]\ttrain-auc:0.649588+0.00255175\ttest-auc:0.646804+0.00340589\n",
      "[200]\ttrain-auc:0.712002+0.00118065\ttest-auc:0.688276+0.00525335\n",
      "0.3 0.6888348 257\n",
      "[0]\ttrain-auc:0.651147+0.0014247\ttest-auc:0.648328+0.0038811\n",
      "[200]\ttrain-auc:0.715662+0.000612273\ttest-auc:0.690701+0.00460126\n",
      "0.5 0.6914672 321\n",
      "[0]\ttrain-auc:0.652284+0.00122627\ttest-auc:0.648903+0.00535329\n",
      "[200]\ttrain-auc:0.717026+0.00107354\ttest-auc:0.690366+0.00454732\n",
      "0.7 0.6910802 309\n",
      "[0]\ttrain-auc:0.652948+0.00142024\ttest-auc:0.649072+0.00562204\n",
      "[200]\ttrain-auc:0.717319+0.000773633\ttest-auc:0.689741+0.00404601\n",
      "[400]\ttrain-auc:0.736491+0.000633087\ttest-auc:0.691263+0.004023\n",
      "0.9 0.6914042 433\n",
      "Best subsample is 0.5\n",
      "CPU times: user 37min 33s, sys: 37.1 s, total: 38min 10s\n",
      "Wall time: 13min 13s\n"
     ]
    }
   ],
   "source": [
    "%%time\n",
    "scores = []\n",
    "for subsample in [0.1, 0.3, 0.5, 0.7, 0.9]:\n",
    "\n",
    "    params = dict()\n",
    "    params['objective'] = 'binary:logistic'\n",
    "    params['eta'] = 0.1\n",
    "    params['max_depth'] = best_max_depth\n",
    "    params['min_child_weight'] = best_min_child_weight\n",
    "    params['colsample_bytree'] = best_colsample_bytree\n",
    "    params['subsample'] = subsample \n",
    "    params['gamma'] = 0\n",
    "    params['seed'] = 1234\n",
    "    params['eval_metric'] = 'auc'\n",
    "    cv_results = xgb.cv(params, dtrain,\n",
    "                    num_boost_round=1500,\n",
    "                    nfold=5,\n",
    "                    maximize=True, \n",
    "                    stratified=True,\n",
    "                    shuffle=True,\n",
    "                    verbose_eval=200,\n",
    "                    seed=1234,\n",
    "                    early_stopping_rounds=50)\n",
    "\n",
    "    \n",
    "    best_score = cv_results['test-auc-mean'].max()\n",
    "    best_iteration = len(cv_results)           \n",
    "    print(subsample, best_score, best_iteration)\n",
    "    scores.append([best_score, params['eta'], params['max_depth'], params['min_child_weight'],\n",
    "                   params['colsample_bytree'], params['subsample'], params['gamma'], best_iteration])\n",
    "\n",
    "scores = pd.DataFrame(scores, columns=['score', 'eta', 'max_depth', 'min_child_weight',\n",
    "                                       'colsample_bytree', 'subsample', 'gamma', 'best_iteration'])\n",
    "best_subsample = scores.sort_values(by='score', ascending=False)['subsample'].values[0]\n",
    "print('Best subsample is', best_subsample)    "
   ]
  },
  {
   "cell_type": "markdown",
   "metadata": {},
   "source": [
    "Gamma tuning"
   ]
  },
  {
   "cell_type": "code",
   "execution_count": 90,
   "metadata": {},
   "outputs": [
    {
     "name": "stdout",
     "output_type": "stream",
     "text": [
      "[0]\ttrain-auc:0.651147+0.0014247\ttest-auc:0.648328+0.0038811\n",
      "[200]\ttrain-auc:0.715662+0.000612273\ttest-auc:0.690701+0.00460126\n",
      "0 0.6914672 321\n",
      "[0]\ttrain-auc:0.651147+0.0014247\ttest-auc:0.648328+0.0038811\n",
      "[200]\ttrain-auc:0.715662+0.000612273\ttest-auc:0.690701+0.00460126\n",
      "0.5 0.6914672 321\n",
      "[0]\ttrain-auc:0.651147+0.0014247\ttest-auc:0.648328+0.0038811\n",
      "[200]\ttrain-auc:0.715662+0.000612273\ttest-auc:0.690701+0.00460126\n",
      "1 0.6914672 321\n",
      "[0]\ttrain-auc:0.651143+0.00150264\ttest-auc:0.648243+0.00381201\n",
      "[200]\ttrain-auc:0.715744+0.000683599\ttest-auc:0.690926+0.0044773\n",
      "1.5 0.6915956 322\n",
      "[0]\ttrain-auc:0.651143+0.00150264\ttest-auc:0.648243+0.00381201\n",
      "[200]\ttrain-auc:0.715511+0.000548502\ttest-auc:0.690742+0.00463516\n",
      "2 0.6915606 322\n",
      "Best gamma is 1.5\n",
      "CPU times: user 44min 3s, sys: 40.3 s, total: 44min 44s\n",
      "Wall time: 15min 31s\n"
     ]
    }
   ],
   "source": [
    "%%time\n",
    "scores = []\n",
    "for gamma in [0, 0.5, 1, 1.5, 2]:\n",
    "\n",
    "    params = dict()\n",
    "    params['objective'] = 'binary:logistic'\n",
    "    params['eta'] = 0.1\n",
    "    params['max_depth'] = best_max_depth\n",
    "    params['min_child_weight'] = best_min_child_weight\n",
    "    params['colsample_bytree'] = best_colsample_bytree\n",
    "    params['subsample'] = best_subsample \n",
    "    params['gamma'] = gamma\n",
    "    params['seed'] = 1234\n",
    "    params['eval_metric'] = 'auc'\n",
    "    cv_results = xgb.cv(params, dtrain,\n",
    "                    num_boost_round=1500,\n",
    "                    nfold=5,\n",
    "                    maximize=True, \n",
    "                    stratified=True,\n",
    "                    shuffle=True,\n",
    "                    verbose_eval=200,\n",
    "                    seed=1234,\n",
    "                    early_stopping_rounds=50)\n",
    "\n",
    "    \n",
    "    best_score = cv_results['test-auc-mean'].max()\n",
    "    best_iteration = len(cv_results)           \n",
    "    print(gamma, best_score, best_iteration)\n",
    "    scores.append([best_score, params['eta'], params['max_depth'], params['min_child_weight'],\n",
    "                   params['colsample_bytree'], params['subsample'], params['gamma'], best_iteration])\n",
    "\n",
    "scores = pd.DataFrame(scores, columns=['score', 'eta', 'max_depth', 'min_child_weight',\n",
    "                                       'colsample_bytree', 'subsample', 'gamma', 'best_iteration'])\n",
    "best_gamma = scores.sort_values(by='score', ascending=False)['gamma'].values[0]\n",
    "print('Best gamma is', best_gamma)    "
   ]
  },
  {
   "cell_type": "code",
   "execution_count": 91,
   "metadata": {},
   "outputs": [
    {
     "name": "stdout",
     "output_type": "stream",
     "text": [
      "3 100 0.7 0.5 1.5\n"
     ]
    },
    {
     "data": {
      "text/html": [
       "<div>\n",
       "<style>\n",
       "    .dataframe thead tr:only-child th {\n",
       "        text-align: right;\n",
       "    }\n",
       "\n",
       "    .dataframe thead th {\n",
       "        text-align: left;\n",
       "    }\n",
       "\n",
       "    .dataframe tbody tr th {\n",
       "        vertical-align: top;\n",
       "    }\n",
       "</style>\n",
       "<table border=\"1\" class=\"dataframe\">\n",
       "  <thead>\n",
       "    <tr style=\"text-align: right;\">\n",
       "      <th></th>\n",
       "      <th>score</th>\n",
       "      <th>eta</th>\n",
       "      <th>max_depth</th>\n",
       "      <th>min_child_weight</th>\n",
       "      <th>colsample_bytree</th>\n",
       "      <th>subsample</th>\n",
       "      <th>gamma</th>\n",
       "      <th>best_iteration</th>\n",
       "    </tr>\n",
       "  </thead>\n",
       "  <tbody>\n",
       "    <tr>\n",
       "      <th>3</th>\n",
       "      <td>0.691596</td>\n",
       "      <td>0.1</td>\n",
       "      <td>3</td>\n",
       "      <td>100</td>\n",
       "      <td>0.7</td>\n",
       "      <td>0.5</td>\n",
       "      <td>1.5</td>\n",
       "      <td>322</td>\n",
       "    </tr>\n",
       "    <tr>\n",
       "      <th>4</th>\n",
       "      <td>0.691561</td>\n",
       "      <td>0.1</td>\n",
       "      <td>3</td>\n",
       "      <td>100</td>\n",
       "      <td>0.7</td>\n",
       "      <td>0.5</td>\n",
       "      <td>2.0</td>\n",
       "      <td>322</td>\n",
       "    </tr>\n",
       "    <tr>\n",
       "      <th>0</th>\n",
       "      <td>0.691467</td>\n",
       "      <td>0.1</td>\n",
       "      <td>3</td>\n",
       "      <td>100</td>\n",
       "      <td>0.7</td>\n",
       "      <td>0.5</td>\n",
       "      <td>0.0</td>\n",
       "      <td>321</td>\n",
       "    </tr>\n",
       "    <tr>\n",
       "      <th>1</th>\n",
       "      <td>0.691467</td>\n",
       "      <td>0.1</td>\n",
       "      <td>3</td>\n",
       "      <td>100</td>\n",
       "      <td>0.7</td>\n",
       "      <td>0.5</td>\n",
       "      <td>0.5</td>\n",
       "      <td>321</td>\n",
       "    </tr>\n",
       "    <tr>\n",
       "      <th>2</th>\n",
       "      <td>0.691467</td>\n",
       "      <td>0.1</td>\n",
       "      <td>3</td>\n",
       "      <td>100</td>\n",
       "      <td>0.7</td>\n",
       "      <td>0.5</td>\n",
       "      <td>1.0</td>\n",
       "      <td>321</td>\n",
       "    </tr>\n",
       "  </tbody>\n",
       "</table>\n",
       "</div>"
      ],
      "text/plain": [
       "      score  eta  max_depth  min_child_weight  colsample_bytree  subsample  \\\n",
       "3  0.691596  0.1          3               100               0.7        0.5   \n",
       "4  0.691561  0.1          3               100               0.7        0.5   \n",
       "0  0.691467  0.1          3               100               0.7        0.5   \n",
       "1  0.691467  0.1          3               100               0.7        0.5   \n",
       "2  0.691467  0.1          3               100               0.7        0.5   \n",
       "\n",
       "   gamma  best_iteration  \n",
       "3    1.5             322  \n",
       "4    2.0             322  \n",
       "0    0.0             321  \n",
       "1    0.5             321  \n",
       "2    1.0             321  "
      ]
     },
     "execution_count": 91,
     "metadata": {},
     "output_type": "execute_result"
    }
   ],
   "source": [
    "print(best_max_depth, best_min_child_weight,\n",
    "      best_colsample_bytree, best_subsample, best_gamma)\n",
    "\n",
    "scores.sort_values(by='score',ascending=False)"
   ]
  },
  {
   "cell_type": "markdown",
   "metadata": {},
   "source": [
    "#### Train the model with smaller leaning rate"
   ]
  },
  {
   "cell_type": "code",
   "execution_count": 98,
   "metadata": {},
   "outputs": [
    {
     "name": "stdout",
     "output_type": "stream",
     "text": [
      "[0]\ttrain-auc:0.651736+0.00140984\ttest-auc:0.650945+0.00579815\n",
      "[200]\ttrain-auc:0.723046+0.00105384\ttest-auc:0.690682+0.00310134\n",
      "0.691134 235\n"
     ]
    }
   ],
   "source": [
    "xgb_params = dict()\n",
    "xgb_params['objective'] = 'binary:logistic'\n",
    "xgb_params['eta'] = 0.05\n",
    "xgb_params['max_depth'] = best_max_depth\n",
    "xgb_params['min_child_weight'] = best_min_child_weight\n",
    "xgb_params['colsample_bytree'] = best_colsample_bytree\n",
    "xgb_params['subsample'] = best_subsample \n",
    "xgb_params['gamma'] = best_gamma\n",
    "xgb_params['seed'] = 1234\n",
    "xgb_params['eval_metric'] = 'auc'\n",
    "cv_results = xgb.cv(params, dtrain,\n",
    "                num_boost_round=1500,\n",
    "                nfold=5,\n",
    "                maximize=True, \n",
    "                stratified=True,\n",
    "                shuffle=True,\n",
    "                verbose_eval=200,\n",
    "                seed=1234,\n",
    "                early_stopping_rounds=50)\n",
    "\n",
    "best_score = cv_results['test-auc-mean'].max()\n",
    "best_iteration = len(cv_results)           \n",
    "print(best_score, best_iteration)"
   ]
  },
  {
   "cell_type": "code",
   "execution_count": 100,
   "metadata": {},
   "outputs": [],
   "source": [
    "xgb_model = xgb.train(xgb_params,\n",
    "                  dtrain,\n",
    "                  num_boost_round=best_iteration)"
   ]
  },
  {
   "cell_type": "markdown",
   "metadata": {},
   "source": [
    "### (b) ROC curve"
   ]
  },
  {
   "cell_type": "code",
   "execution_count": 101,
   "metadata": {},
   "outputs": [],
   "source": [
    "from sklearn.cross_validation import train_test_split"
   ]
  },
  {
   "cell_type": "code",
   "execution_count": 102,
   "metadata": {
    "collapsed": true
   },
   "outputs": [],
   "source": [
    "X_train, X_valid, y_train, y_valid = train_test_split(df_train[feat], df_train.loanstatus, \n",
    "                                                      test_size=0.3, random_state=2014, stratify = df_train.loanstatus)"
   ]
  },
  {
   "cell_type": "code",
   "execution_count": 103,
   "metadata": {
    "collapsed": true
   },
   "outputs": [],
   "source": [
    "X_test, y_test = df_test[feat], df_test.loanstatus"
   ]
  },
  {
   "cell_type": "code",
   "execution_count": 104,
   "metadata": {
    "collapsed": true
   },
   "outputs": [],
   "source": [
    "dtrain = xgb.DMatrix(X_train, y_train, missing = np.NAN)\n",
    "dvalid = xgb.DMatrix(X_valid, y_valid, missing = np.NAN)\n",
    "dtest = xgb.DMatrix(X_test, y_test, missing = np.NAN)"
   ]
  },
  {
   "cell_type": "code",
   "execution_count": 179,
   "metadata": {},
   "outputs": [],
   "source": [
    "from sklearn.metrics import roc_curve, auc\n",
    "from sklearn import linear_model, datasets\n",
    "import pylab as pl\n",
    "def draw_ROC(model, dtrain, dvalid, dtest, y_train, y_valid, y_test ):\n",
    "    probas_ = model.predict(dvalid, ntree_limit=model.best_ntree_limit)\n",
    "    probas_1 = model.predict(dtrain, ntree_limit=model.best_ntree_limit)\n",
    "    probas_2 = model.predict(dtest, ntree_limit=model.best_ntree_limit)\n",
    "    fpr, tpr, thresholds = roc_curve(y_valid, probas_)\n",
    "    fpr_1, tpr_1, thresholds_1 = roc_curve(y_train, probas_1)\n",
    "    fpr_2, tpr_2, thresholds_2 = roc_curve(y_test, probas_2)\n",
    "    roc_auc = auc(fpr, tpr)\n",
    "    roc_auc_1 = auc(fpr_1, tpr_1)\n",
    "    roc_auc_2 = auc(fpr_2, tpr_2)\n",
    "    print(\"Area under the ROC curve - validation: %f\" % roc_auc)\n",
    "    print(\"Area under the ROC curve - train: %f\" % roc_auc_1)\n",
    "    print(\"Area under the ROC curve - test: %f\" % roc_auc_2)\n",
    "    # Plot ROC curve\n",
    "    plt.figure(figsize=(8,8))\n",
    "    plt.plot(fpr, tpr, label='ROC curve - validation (AUC = %0.2f)' % roc_auc, color='r')\n",
    "    plt.plot(fpr_1, tpr_1, label='ROC curve - train (AUC = %0.2f)' % roc_auc_1, color='b')\n",
    "    plt.plot(fpr_2, tpr_2, label='ROC curve - test (AUC = %0.2f)' % roc_auc_2, color='g')\n",
    "    plt.plot([0, 1], [0, 1], 'k--')\n",
    "    plt.xlim([0.0, 1.0])\n",
    "    plt.ylim([0.0, 1.0])\n",
    "    plt.xlabel('False Positive Rate')\n",
    "    plt.ylabel('True Positive Rate')\n",
    "    plt.title('ROC for lead score model')\n",
    "    plt.legend(loc=\"lower right\")\n",
    "    plt.show()"
   ]
  },
  {
   "cell_type": "code",
   "execution_count": 180,
   "metadata": {},
   "outputs": [
    {
     "name": "stdout",
     "output_type": "stream",
     "text": [
      "Area under the ROC curve - validation: 0.685120\n",
      "Area under the ROC curve - train: 0.708713\n",
      "Area under the ROC curve - test: 0.698181\n"
     ]
    },
    {
     "data": {
      "image/png": "[encoded data removed]",
      "text/plain": [
       "<matplotlib.figure.Figure at 0x138401c50>"
      ]
     },
     "metadata": {},
     "output_type": "display_data"
    }
   ],
   "source": [
    "draw_ROC(xgb_model, dtrain, dvalid, dtest, y_train, y_valid, y_test)"
   ]
  },
  {
   "cell_type": "markdown",
   "metadata": {},
   "source": [
    "### (c) Distribution of predicted values"
   ]
  },
  {
   "cell_type": "code",
   "execution_count": 109,
   "metadata": {
    "collapsed": true
   },
   "outputs": [],
   "source": [
    "y_pred = xgb_model.predict(dtest)"
   ]
  },
  {
   "cell_type": "code",
   "execution_count": 110,
   "metadata": {},
   "outputs": [
    {
     "name": "stdout",
     "output_type": "stream",
     "text": [
      "0.549282 0.00962909 0.134195\n"
     ]
    }
   ],
   "source": [
    "print(y_pred.max(), y_pred.min(), y_pred.mean())"
   ]
  },
  {
   "cell_type": "markdown",
   "metadata": {},
   "source": [
    "### (d) Feature importance"
   ]
  },
  {
   "cell_type": "code",
   "execution_count": 147,
   "metadata": {
    "scrolled": true
   },
   "outputs": [],
   "source": [
    "import operator\n",
    "importance = xgb_model.get_fscore()\n",
    "importance = sorted(importance.items(), key=operator.itemgetter(1))"
   ]
  },
  {
   "cell_type": "code",
   "execution_count": 149,
   "metadata": {
    "scrolled": false
   },
   "outputs": [],
   "source": [
    "df_importance = pd.DataFrame(importance, columns=['feature', 'fscore'])\n",
    "df_importance['fscore'] = df_importance['fscore'] / df_importance['fscore'].sum()"
   ]
  },
  {
   "cell_type": "code",
   "execution_count": 152,
   "metadata": {},
   "outputs": [
    {
     "data": {
      "text/html": [
       "<div>\n",
       "<style>\n",
       "    .dataframe thead tr:only-child th {\n",
       "        text-align: right;\n",
       "    }\n",
       "\n",
       "    .dataframe thead th {\n",
       "        text-align: left;\n",
       "    }\n",
       "\n",
       "    .dataframe tbody tr th {\n",
       "        vertical-align: top;\n",
       "    }\n",
       "</style>\n",
       "<table border=\"1\" class=\"dataframe\">\n",
       "  <thead>\n",
       "    <tr style=\"text-align: right;\">\n",
       "      <th></th>\n",
       "      <th>feature</th>\n",
       "      <th>fscore</th>\n",
       "    </tr>\n",
       "  </thead>\n",
       "  <tbody>\n",
       "    <tr>\n",
       "      <th>64</th>\n",
       "      <td>intrate</td>\n",
       "      <td>0.073633</td>\n",
       "    </tr>\n",
       "    <tr>\n",
       "      <th>63</th>\n",
       "      <td>annualinc</td>\n",
       "      <td>0.063114</td>\n",
       "    </tr>\n",
       "    <tr>\n",
       "      <th>62</th>\n",
       "      <td>installment</td>\n",
       "      <td>0.061711</td>\n",
       "    </tr>\n",
       "    <tr>\n",
       "      <th>61</th>\n",
       "      <td>dti</td>\n",
       "      <td>0.051192</td>\n",
       "    </tr>\n",
       "    <tr>\n",
       "      <th>60</th>\n",
       "      <td>accopenpast24mths</td>\n",
       "      <td>0.049088</td>\n",
       "    </tr>\n",
       "    <tr>\n",
       "      <th>59</th>\n",
       "      <td>subgrade</td>\n",
       "      <td>0.048387</td>\n",
       "    </tr>\n",
       "    <tr>\n",
       "      <th>58</th>\n",
       "      <td>mosinoldrevtlop</td>\n",
       "      <td>0.036466</td>\n",
       "    </tr>\n",
       "    <tr>\n",
       "      <th>57</th>\n",
       "      <td>avgcurbal</td>\n",
       "      <td>0.032959</td>\n",
       "    </tr>\n",
       "    <tr>\n",
       "      <th>56</th>\n",
       "      <td>totalbclimit</td>\n",
       "      <td>0.026648</td>\n",
       "    </tr>\n",
       "    <tr>\n",
       "      <th>55</th>\n",
       "      <td>emptitle_freq</td>\n",
       "      <td>0.024544</td>\n",
       "    </tr>\n",
       "    <tr>\n",
       "      <th>54</th>\n",
       "      <td>mthssincerecentbc</td>\n",
       "      <td>0.023843</td>\n",
       "    </tr>\n",
       "    <tr>\n",
       "      <th>53</th>\n",
       "      <td>mosinoldilacct</td>\n",
       "      <td>0.023142</td>\n",
       "    </tr>\n",
       "    <tr>\n",
       "      <th>52</th>\n",
       "      <td>tothicredlim</td>\n",
       "      <td>0.022440</td>\n",
       "    </tr>\n",
       "    <tr>\n",
       "      <th>51</th>\n",
       "      <td>emplength</td>\n",
       "      <td>0.020337</td>\n",
       "    </tr>\n",
       "    <tr>\n",
       "      <th>50</th>\n",
       "      <td>mthssincerecentinq</td>\n",
       "      <td>0.019635</td>\n",
       "    </tr>\n",
       "    <tr>\n",
       "      <th>47</th>\n",
       "      <td>bcopentobuy</td>\n",
       "      <td>0.018934</td>\n",
       "    </tr>\n",
       "    <tr>\n",
       "      <th>46</th>\n",
       "      <td>zipcode</td>\n",
       "      <td>0.018934</td>\n",
       "    </tr>\n",
       "    <tr>\n",
       "      <th>49</th>\n",
       "      <td>bcutil</td>\n",
       "      <td>0.018934</td>\n",
       "    </tr>\n",
       "    <tr>\n",
       "      <th>48</th>\n",
       "      <td>fundedamnt</td>\n",
       "      <td>0.018934</td>\n",
       "    </tr>\n",
       "    <tr>\n",
       "      <th>45</th>\n",
       "      <td>mosinrcntrevtlop</td>\n",
       "      <td>0.018233</td>\n",
       "    </tr>\n",
       "    <tr>\n",
       "      <th>44</th>\n",
       "      <td>mthssincelastrecord</td>\n",
       "      <td>0.016830</td>\n",
       "    </tr>\n",
       "    <tr>\n",
       "      <th>43</th>\n",
       "      <td>percentbcgt75</td>\n",
       "      <td>0.016129</td>\n",
       "    </tr>\n",
       "    <tr>\n",
       "      <th>42</th>\n",
       "      <td>earliestcrline_month</td>\n",
       "      <td>0.016129</td>\n",
       "    </tr>\n",
       "    <tr>\n",
       "      <th>41</th>\n",
       "      <td>pcttlnvrdlq</td>\n",
       "      <td>0.015428</td>\n",
       "    </tr>\n",
       "    <tr>\n",
       "      <th>40</th>\n",
       "      <td>mosinrcnttl</td>\n",
       "      <td>0.015428</td>\n",
       "    </tr>\n",
       "    <tr>\n",
       "      <th>39</th>\n",
       "      <td>zipcode_freq</td>\n",
       "      <td>0.014727</td>\n",
       "    </tr>\n",
       "    <tr>\n",
       "      <th>38</th>\n",
       "      <td>mthssincerecentbcdlq</td>\n",
       "      <td>0.014727</td>\n",
       "    </tr>\n",
       "    <tr>\n",
       "      <th>37</th>\n",
       "      <td>totalrevhilim</td>\n",
       "      <td>0.014727</td>\n",
       "    </tr>\n",
       "    <tr>\n",
       "      <th>36</th>\n",
       "      <td>totalilhighcreditlimit</td>\n",
       "      <td>0.014025</td>\n",
       "    </tr>\n",
       "    <tr>\n",
       "      <th>35</th>\n",
       "      <td>homeownership_RENT</td>\n",
       "      <td>0.012623</td>\n",
       "    </tr>\n",
       "    <tr>\n",
       "      <th>...</th>\n",
       "      <td>...</td>\n",
       "      <td>...</td>\n",
       "    </tr>\n",
       "    <tr>\n",
       "      <th>29</th>\n",
       "      <td>totalbalexmort</td>\n",
       "      <td>0.009818</td>\n",
       "    </tr>\n",
       "    <tr>\n",
       "      <th>28</th>\n",
       "      <td>numrevaccts</td>\n",
       "      <td>0.009818</td>\n",
       "    </tr>\n",
       "    <tr>\n",
       "      <th>27</th>\n",
       "      <td>numiltl</td>\n",
       "      <td>0.008415</td>\n",
       "    </tr>\n",
       "    <tr>\n",
       "      <th>26</th>\n",
       "      <td>grade</td>\n",
       "      <td>0.008415</td>\n",
       "    </tr>\n",
       "    <tr>\n",
       "      <th>25</th>\n",
       "      <td>mthssincelastmajorderog</td>\n",
       "      <td>0.007714</td>\n",
       "    </tr>\n",
       "    <tr>\n",
       "      <th>24</th>\n",
       "      <td>addrstate_freq</td>\n",
       "      <td>0.007714</td>\n",
       "    </tr>\n",
       "    <tr>\n",
       "      <th>23</th>\n",
       "      <td>numrevtlbalgt0</td>\n",
       "      <td>0.007013</td>\n",
       "    </tr>\n",
       "    <tr>\n",
       "      <th>22</th>\n",
       "      <td>mthssincerecentrevoldelinq</td>\n",
       "      <td>0.006311</td>\n",
       "    </tr>\n",
       "    <tr>\n",
       "      <th>21</th>\n",
       "      <td>numoprevtl</td>\n",
       "      <td>0.005610</td>\n",
       "    </tr>\n",
       "    <tr>\n",
       "      <th>18</th>\n",
       "      <td>mortacc</td>\n",
       "      <td>0.004909</td>\n",
       "    </tr>\n",
       "    <tr>\n",
       "      <th>20</th>\n",
       "      <td>delinq2yrs</td>\n",
       "      <td>0.004909</td>\n",
       "    </tr>\n",
       "    <tr>\n",
       "      <th>19</th>\n",
       "      <td>totalacc</td>\n",
       "      <td>0.004909</td>\n",
       "    </tr>\n",
       "    <tr>\n",
       "      <th>17</th>\n",
       "      <td>numbctl</td>\n",
       "      <td>0.004208</td>\n",
       "    </tr>\n",
       "    <tr>\n",
       "      <th>16</th>\n",
       "      <td>numsats</td>\n",
       "      <td>0.004208</td>\n",
       "    </tr>\n",
       "    <tr>\n",
       "      <th>15</th>\n",
       "      <td>numbcsats</td>\n",
       "      <td>0.003506</td>\n",
       "    </tr>\n",
       "    <tr>\n",
       "      <th>14</th>\n",
       "      <td>inqlast6mths</td>\n",
       "      <td>0.003506</td>\n",
       "    </tr>\n",
       "    <tr>\n",
       "      <th>13</th>\n",
       "      <td>numactvrevtl</td>\n",
       "      <td>0.003506</td>\n",
       "    </tr>\n",
       "    <tr>\n",
       "      <th>12</th>\n",
       "      <td>verificationstatus_Source Verified</td>\n",
       "      <td>0.002805</td>\n",
       "    </tr>\n",
       "    <tr>\n",
       "      <th>11</th>\n",
       "      <td>numacctsever120pd</td>\n",
       "      <td>0.002104</td>\n",
       "    </tr>\n",
       "    <tr>\n",
       "      <th>10</th>\n",
       "      <td>numactvbctl</td>\n",
       "      <td>0.002104</td>\n",
       "    </tr>\n",
       "    <tr>\n",
       "      <th>9</th>\n",
       "      <td>openacc</td>\n",
       "      <td>0.001403</td>\n",
       "    </tr>\n",
       "    <tr>\n",
       "      <th>8</th>\n",
       "      <td>totcollamt</td>\n",
       "      <td>0.001403</td>\n",
       "    </tr>\n",
       "    <tr>\n",
       "      <th>7</th>\n",
       "      <td>purpose_other</td>\n",
       "      <td>0.001403</td>\n",
       "    </tr>\n",
       "    <tr>\n",
       "      <th>6</th>\n",
       "      <td>verificationstatus_Not Verified</td>\n",
       "      <td>0.001403</td>\n",
       "    </tr>\n",
       "    <tr>\n",
       "      <th>3</th>\n",
       "      <td>initialliststatus_w</td>\n",
       "      <td>0.000701</td>\n",
       "    </tr>\n",
       "    <tr>\n",
       "      <th>2</th>\n",
       "      <td>purpose_debt_consolidation</td>\n",
       "      <td>0.000701</td>\n",
       "    </tr>\n",
       "    <tr>\n",
       "      <th>1</th>\n",
       "      <td>pubrecbankruptcies</td>\n",
       "      <td>0.000701</td>\n",
       "    </tr>\n",
       "    <tr>\n",
       "      <th>4</th>\n",
       "      <td>verificationstatus_Verified</td>\n",
       "      <td>0.000701</td>\n",
       "    </tr>\n",
       "    <tr>\n",
       "      <th>5</th>\n",
       "      <td>numtl120dpd2m</td>\n",
       "      <td>0.000701</td>\n",
       "    </tr>\n",
       "    <tr>\n",
       "      <th>0</th>\n",
       "      <td>homeownership_MORTGAGE</td>\n",
       "      <td>0.000701</td>\n",
       "    </tr>\n",
       "  </tbody>\n",
       "</table>\n",
       "<p>65 rows × 2 columns</p>\n",
       "</div>"
      ],
      "text/plain": [
       "                               feature    fscore\n",
       "64                             intrate  0.073633\n",
       "63                           annualinc  0.063114\n",
       "62                         installment  0.061711\n",
       "61                                 dti  0.051192\n",
       "60                   accopenpast24mths  0.049088\n",
       "59                            subgrade  0.048387\n",
       "58                     mosinoldrevtlop  0.036466\n",
       "57                           avgcurbal  0.032959\n",
       "56                        totalbclimit  0.026648\n",
       "55                       emptitle_freq  0.024544\n",
       "54                   mthssincerecentbc  0.023843\n",
       "53                      mosinoldilacct  0.023142\n",
       "52                        tothicredlim  0.022440\n",
       "51                           emplength  0.020337\n",
       "50                  mthssincerecentinq  0.019635\n",
       "47                         bcopentobuy  0.018934\n",
       "46                             zipcode  0.018934\n",
       "49                              bcutil  0.018934\n",
       "48                          fundedamnt  0.018934\n",
       "45                    mosinrcntrevtlop  0.018233\n",
       "44                 mthssincelastrecord  0.016830\n",
       "43                       percentbcgt75  0.016129\n",
       "42                earliestcrline_month  0.016129\n",
       "41                         pcttlnvrdlq  0.015428\n",
       "40                         mosinrcnttl  0.015428\n",
       "39                        zipcode_freq  0.014727\n",
       "38                mthssincerecentbcdlq  0.014727\n",
       "37                       totalrevhilim  0.014727\n",
       "36              totalilhighcreditlimit  0.014025\n",
       "35                  homeownership_RENT  0.012623\n",
       "..                                 ...       ...\n",
       "29                      totalbalexmort  0.009818\n",
       "28                         numrevaccts  0.009818\n",
       "27                             numiltl  0.008415\n",
       "26                               grade  0.008415\n",
       "25             mthssincelastmajorderog  0.007714\n",
       "24                      addrstate_freq  0.007714\n",
       "23                      numrevtlbalgt0  0.007013\n",
       "22          mthssincerecentrevoldelinq  0.006311\n",
       "21                          numoprevtl  0.005610\n",
       "18                             mortacc  0.004909\n",
       "20                          delinq2yrs  0.004909\n",
       "19                            totalacc  0.004909\n",
       "17                             numbctl  0.004208\n",
       "16                             numsats  0.004208\n",
       "15                           numbcsats  0.003506\n",
       "14                        inqlast6mths  0.003506\n",
       "13                        numactvrevtl  0.003506\n",
       "12  verificationstatus_Source Verified  0.002805\n",
       "11                   numacctsever120pd  0.002104\n",
       "10                         numactvbctl  0.002104\n",
       "9                              openacc  0.001403\n",
       "8                           totcollamt  0.001403\n",
       "7                        purpose_other  0.001403\n",
       "6      verificationstatus_Not Verified  0.001403\n",
       "3                  initialliststatus_w  0.000701\n",
       "2           purpose_debt_consolidation  0.000701\n",
       "1                   pubrecbankruptcies  0.000701\n",
       "4          verificationstatus_Verified  0.000701\n",
       "5                        numtl120dpd2m  0.000701\n",
       "0               homeownership_MORTGAGE  0.000701\n",
       "\n",
       "[65 rows x 2 columns]"
      ]
     },
     "execution_count": 152,
     "metadata": {},
     "output_type": "execute_result"
    }
   ],
   "source": [
    "df_importance.sort_values(['fscore'], ascending=False, inplace=True)\n",
    "df_importance"
   ]
  },
  {
   "cell_type": "code",
   "execution_count": 153,
   "metadata": {},
   "outputs": [
    {
     "data": {
      "text/plain": [
       "<matplotlib.figure.Figure at 0x12306a048>"
      ]
     },
     "metadata": {},
     "output_type": "display_data"
    },
    {
     "data": {
      "image/png": "[encoded data removed]",
      "text/plain": [
       "<matplotlib.figure.Figure at 0x12306a8d0>"
      ]
     },
     "metadata": {},
     "output_type": "display_data"
    }
   ],
   "source": [
    "plt.figure(figsize=(32, 32))\n",
    "df_importance[:20].plot(kind='barh', x='feature', y='fscore', legend=False, figsize=(6, 10))\n",
    "plt.title('XGBoost Feature Importance')\n",
    "plt.xlabel('relative importance')\n",
    "plt.gcf().savefig('feature_importance_xgb.png')"
   ]
  },
  {
   "cell_type": "code",
   "execution_count": 154,
   "metadata": {},
   "outputs": [
    {
     "data": {
      "text/html": [
       "<div>\n",
       "<style>\n",
       "    .dataframe thead tr:only-child th {\n",
       "        text-align: right;\n",
       "    }\n",
       "\n",
       "    .dataframe thead th {\n",
       "        text-align: left;\n",
       "    }\n",
       "\n",
       "    .dataframe tbody tr th {\n",
       "        vertical-align: top;\n",
       "    }\n",
       "</style>\n",
       "<table border=\"1\" class=\"dataframe\">\n",
       "  <thead>\n",
       "    <tr style=\"text-align: right;\">\n",
       "      <th></th>\n",
       "      <th>feature</th>\n",
       "      <th>fscore</th>\n",
       "    </tr>\n",
       "  </thead>\n",
       "  <tbody>\n",
       "    <tr>\n",
       "      <th>26</th>\n",
       "      <td>grade</td>\n",
       "      <td>0.008415</td>\n",
       "    </tr>\n",
       "  </tbody>\n",
       "</table>\n",
       "</div>"
      ],
      "text/plain": [
       "   feature    fscore\n",
       "26   grade  0.008415"
      ]
     },
     "execution_count": 154,
     "metadata": {},
     "output_type": "execute_result"
    }
   ],
   "source": [
    "grade_importance = df_importance.query(\"feature=='grade'\")\n",
    "grade_importance"
   ]
  },
  {
   "cell_type": "code",
   "execution_count": 155,
   "metadata": {},
   "outputs": [
    {
     "data": {
      "text/html": [
       "<div>\n",
       "<style>\n",
       "    .dataframe thead tr:only-child th {\n",
       "        text-align: right;\n",
       "    }\n",
       "\n",
       "    .dataframe thead th {\n",
       "        text-align: left;\n",
       "    }\n",
       "\n",
       "    .dataframe tbody tr th {\n",
       "        vertical-align: top;\n",
       "    }\n",
       "</style>\n",
       "<table border=\"1\" class=\"dataframe\">\n",
       "  <thead>\n",
       "    <tr style=\"text-align: right;\">\n",
       "      <th></th>\n",
       "      <th>feature</th>\n",
       "      <th>fscore</th>\n",
       "    </tr>\n",
       "  </thead>\n",
       "  <tbody>\n",
       "    <tr>\n",
       "      <th>59</th>\n",
       "      <td>subgrade</td>\n",
       "      <td>0.048387</td>\n",
       "    </tr>\n",
       "  </tbody>\n",
       "</table>\n",
       "</div>"
      ],
      "text/plain": [
       "     feature    fscore\n",
       "59  subgrade  0.048387"
      ]
     },
     "execution_count": 155,
     "metadata": {},
     "output_type": "execute_result"
    }
   ],
   "source": [
    "subgrade_importance = df_importance.query(\"feature=='subgrade'\")\n",
    "subgrade_importance"
   ]
  },
  {
   "cell_type": "code",
   "execution_count": 156,
   "metadata": {},
   "outputs": [
    {
     "data": {
      "text/html": [
       "<div>\n",
       "<style>\n",
       "    .dataframe thead tr:only-child th {\n",
       "        text-align: right;\n",
       "    }\n",
       "\n",
       "    .dataframe thead th {\n",
       "        text-align: left;\n",
       "    }\n",
       "\n",
       "    .dataframe tbody tr th {\n",
       "        vertical-align: top;\n",
       "    }\n",
       "</style>\n",
       "<table border=\"1\" class=\"dataframe\">\n",
       "  <thead>\n",
       "    <tr style=\"text-align: right;\">\n",
       "      <th></th>\n",
       "      <th>feature</th>\n",
       "      <th>fscore</th>\n",
       "    </tr>\n",
       "  </thead>\n",
       "  <tbody>\n",
       "    <tr>\n",
       "      <th>64</th>\n",
       "      <td>intrate</td>\n",
       "      <td>0.073633</td>\n",
       "    </tr>\n",
       "  </tbody>\n",
       "</table>\n",
       "</div>"
      ],
      "text/plain": [
       "    feature    fscore\n",
       "64  intrate  0.073633"
      ]
     },
     "execution_count": 156,
     "metadata": {},
     "output_type": "execute_result"
    }
   ],
   "source": [
    "intrate_importance = df_importance.query(\"feature=='intrate'\")\n",
    "intrate_importance"
   ]
  },
  {
   "cell_type": "code",
   "execution_count": 158,
   "metadata": {},
   "outputs": [
    {
     "data": {
      "text/plain": [
       "Text(0.5,0,'relative importance')"
      ]
     },
     "execution_count": 158,
     "metadata": {},
     "output_type": "execute_result"
    },
    {
     "data": {
      "text/plain": [
       "<matplotlib.figure.Figure at 0x1315554a8>"
      ]
     },
     "metadata": {},
     "output_type": "display_data"
    },
    {
     "data": {
      "image/png": "[encoded data removed]",
      "text/plain": [
       "<matplotlib.figure.Figure at 0x13176b278>"
      ]
     },
     "metadata": {},
     "output_type": "display_data"
    }
   ],
   "source": [
    "plt.figure(figsize=(32, 32))\n",
    "# df_importance.plot()\n",
    "df_importance.plot(kind='barh', x='feature', y='fscore', legend=False, figsize=(6, 10))\n",
    "plt.title('XGBoost Feature Importance')\n",
    "plt.xlabel('relative importance')"
   ]
  },
  {
   "cell_type": "markdown",
   "metadata": {},
   "source": [
    "### (e) Save model"
   ]
  },
  {
   "cell_type": "code",
   "execution_count": 159,
   "metadata": {
    "collapsed": true
   },
   "outputs": [],
   "source": [
    "import pickle"
   ]
  },
  {
   "cell_type": "code",
   "execution_count": 161,
   "metadata": {},
   "outputs": [],
   "source": [
    "pickle.dump(xgb_model, open('model.pkl', \"wb\"))"
   ]
  },
  {
   "cell_type": "code",
   "execution_count": 163,
   "metadata": {},
   "outputs": [
    {
     "data": {
      "text/plain": [
       "['pima.joblib.dat']"
      ]
     },
     "execution_count": 163,
     "metadata": {},
     "output_type": "execute_result"
    }
   ],
   "source": [
    "from sklearn.externals import joblib\n",
    "joblib.dump(xgb_model, \"pima.joblib.dat\")"
   ]
  },
  {
   "cell_type": "code",
   "execution_count": 165,
   "metadata": {},
   "outputs": [],
   "source": [
    "with open('model.pkl', 'wb') as outfile:\n",
    "    pickle.dump(xgb_model, outfile)"
   ]
  }
 ],
 "metadata": {
  "kernelspec": {
   "display_name": "Python 3",
   "language": "python",
   "name": "python3"
  },
  "language_info": {
   "codemirror_mode": {
    "name": "ipython",
    "version": 3
   },
   "file_extension": ".py",
   "mimetype": "text/x-python",
   "name": "python",
   "nbconvert_exporter": "python",
   "pygments_lexer": "ipython3",
   "version": "3.6.2"
  }
 },
 "nbformat": 4,
 "nbformat_minor": 2
}
